{
  "nbformat": 4,
  "nbformat_minor": 0,
  "metadata": {
    "colab": {
      "name": "CAAD-2.ipynb",
      "provenance": [],
      "collapsed_sections": [],
      "authorship_tag": "ABX9TyPxscWsnILpByV0FGVielw2",
      "include_colab_link": true
    },
    "kernelspec": {
      "name": "python3",
      "display_name": "Python 3"
    }
  },
  "cells": [
    {
      "cell_type": "markdown",
      "metadata": {
        "id": "view-in-github",
        "colab_type": "text"
      },
      "source": [
        "<a href=\"https://colab.research.google.com/github/pharm-me/CAAD_facultative/blob/master/CAAD_2.ipynb\" target=\"_parent\"><img src=\"https://colab.research.google.com/assets/colab-badge.svg\" alt=\"Open In Colab\"/></a>"
      ]
    },
    {
      "cell_type": "code",
      "metadata": {
        "id": "TucSRzmGCHS9"
      },
      "source": [
        "from google.colab import drive\n",
        "import pandas as pd"
      ],
      "execution_count": null,
      "outputs": []
    },
    {
      "cell_type": "code",
      "metadata": {
        "id": "XjQqfnc3CJ5A",
        "outputId": "63df7b15-eca4-4a3e-8770-a4945bdf08f7",
        "colab": {
          "base_uri": "https://localhost:8080/",
          "height": 34
        }
      },
      "source": [
        "drive.mount('/content/drive')"
      ],
      "execution_count": null,
      "outputs": [
        {
          "output_type": "stream",
          "text": [
            "Mounted at /content/drive\n"
          ],
          "name": "stdout"
        }
      ]
    },
    {
      "cell_type": "code",
      "metadata": {
        "id": "sWFcrIgOIFTM"
      },
      "source": [
        "data = pd.read_csv('/content/drive/My Drive/tnf-alpha.csv', sep=';')"
      ],
      "execution_count": null,
      "outputs": []
    },
    {
      "cell_type": "code",
      "metadata": {
        "id": "N8irVvsLDPdE",
        "outputId": "3a84d958-8289-4eed-8cca-29aeb68b10d4",
        "colab": {
          "base_uri": "https://localhost:8080/",
          "height": 445
        }
      },
      "source": [
        "data.head()"
      ],
      "execution_count": null,
      "outputs": [
        {
          "output_type": "execute_result",
          "data": {
            "text/html": [
              "<div>\n",
              "<style scoped>\n",
              "    .dataframe tbody tr th:only-of-type {\n",
              "        vertical-align: middle;\n",
              "    }\n",
              "\n",
              "    .dataframe tbody tr th {\n",
              "        vertical-align: top;\n",
              "    }\n",
              "\n",
              "    .dataframe thead th {\n",
              "        text-align: right;\n",
              "    }\n",
              "</style>\n",
              "<table border=\"1\" class=\"dataframe\">\n",
              "  <thead>\n",
              "    <tr style=\"text-align: right;\">\n",
              "      <th></th>\n",
              "      <th>Molecule ChEMBL ID</th>\n",
              "      <th>Molecule Name</th>\n",
              "      <th>Molecule Max Phase</th>\n",
              "      <th>Molecular Weight</th>\n",
              "      <th>#RO5 Violations</th>\n",
              "      <th>AlogP</th>\n",
              "      <th>Compound Key</th>\n",
              "      <th>Smiles</th>\n",
              "      <th>Standard Type</th>\n",
              "      <th>Standard Relation</th>\n",
              "      <th>Standard Value</th>\n",
              "      <th>Standard Units</th>\n",
              "      <th>pChEMBL Value</th>\n",
              "      <th>Data Validity Comment</th>\n",
              "      <th>Comment</th>\n",
              "      <th>Uo Units</th>\n",
              "      <th>Ligand Efficiency BEI</th>\n",
              "      <th>Ligand Efficiency LE</th>\n",
              "      <th>Ligand Efficiency LLE</th>\n",
              "      <th>Ligand Efficiency SEI</th>\n",
              "      <th>Potential Duplicate</th>\n",
              "      <th>Assay ChEMBL ID</th>\n",
              "      <th>Assay Description</th>\n",
              "      <th>Assay Type</th>\n",
              "      <th>BAO Format ID</th>\n",
              "      <th>BAO Label</th>\n",
              "      <th>Assay Organism</th>\n",
              "      <th>Assay Tissue ChEMBL ID</th>\n",
              "      <th>Assay Tissue Name</th>\n",
              "      <th>Assay Cell Type</th>\n",
              "      <th>Assay Subcellular Fraction</th>\n",
              "      <th>Target ChEMBL ID</th>\n",
              "      <th>Target Name</th>\n",
              "      <th>Target Organism</th>\n",
              "      <th>Target Type</th>\n",
              "      <th>Document ChEMBL ID</th>\n",
              "      <th>Source ID</th>\n",
              "      <th>Source Description</th>\n",
              "      <th>Document Journal</th>\n",
              "      <th>Document Year</th>\n",
              "      <th>Cell ChEMBL ID</th>\n",
              "    </tr>\n",
              "  </thead>\n",
              "  <tbody>\n",
              "    <tr>\n",
              "      <th>0</th>\n",
              "      <td>CHEMBL341096</td>\n",
              "      <td>NaN</td>\n",
              "      <td>0</td>\n",
              "      <td>364.35</td>\n",
              "      <td>0</td>\n",
              "      <td>2.27</td>\n",
              "      <td>18</td>\n",
              "      <td>CCOC(=O)CCCn1cc([N+](=O)[O-])c2cc(OC)c(OC)cc2c1=O</td>\n",
              "      <td>IC50</td>\n",
              "      <td>'='</td>\n",
              "      <td>35000.0</td>\n",
              "      <td>nM</td>\n",
              "      <td>4.46</td>\n",
              "      <td>NaN</td>\n",
              "      <td>NaN</td>\n",
              "      <td>UO_0000065</td>\n",
              "      <td>NaN</td>\n",
              "      <td>NaN</td>\n",
              "      <td>NaN</td>\n",
              "      <td>NaN</td>\n",
              "      <td>False</td>\n",
              "      <td>CHEMBL816155</td>\n",
              "      <td>The compound was tested in vitro for inhibitor...</td>\n",
              "      <td>F</td>\n",
              "      <td>BAO_0000219</td>\n",
              "      <td>cell-based format</td>\n",
              "      <td>None</td>\n",
              "      <td>None</td>\n",
              "      <td>None</td>\n",
              "      <td>PMBC</td>\n",
              "      <td>None</td>\n",
              "      <td>CHEMBL1825</td>\n",
              "      <td>TNF-alpha</td>\n",
              "      <td>Homo sapiens</td>\n",
              "      <td>SINGLE PROTEIN</td>\n",
              "      <td>CHEMBL1132644</td>\n",
              "      <td>1</td>\n",
              "      <td>Scientific Literature</td>\n",
              "      <td>J. Med. Chem.</td>\n",
              "      <td>1999.0</td>\n",
              "      <td>None</td>\n",
              "    </tr>\n",
              "    <tr>\n",
              "      <th>1</th>\n",
              "      <td>CHEMBL169239</td>\n",
              "      <td>NaN</td>\n",
              "      <td>0</td>\n",
              "      <td>292.30</td>\n",
              "      <td>0</td>\n",
              "      <td>-0.17</td>\n",
              "      <td>57</td>\n",
              "      <td>CCOC(=O)CCCn1c(=O)c2nccnc2n(C)c1=O</td>\n",
              "      <td>IC50</td>\n",
              "      <td>'='</td>\n",
              "      <td>12000.0</td>\n",
              "      <td>nM</td>\n",
              "      <td>4.92</td>\n",
              "      <td>NaN</td>\n",
              "      <td>NaN</td>\n",
              "      <td>UO_0000065</td>\n",
              "      <td>NaN</td>\n",
              "      <td>NaN</td>\n",
              "      <td>NaN</td>\n",
              "      <td>NaN</td>\n",
              "      <td>False</td>\n",
              "      <td>CHEMBL873375</td>\n",
              "      <td>TNF-alpha production in PBMC by ELISA method</td>\n",
              "      <td>F</td>\n",
              "      <td>BAO_0000019</td>\n",
              "      <td>assay format</td>\n",
              "      <td>None</td>\n",
              "      <td>None</td>\n",
              "      <td>None</td>\n",
              "      <td>None</td>\n",
              "      <td>None</td>\n",
              "      <td>CHEMBL1825</td>\n",
              "      <td>TNF-alpha</td>\n",
              "      <td>Homo sapiens</td>\n",
              "      <td>SINGLE PROTEIN</td>\n",
              "      <td>CHEMBL1129287</td>\n",
              "      <td>1</td>\n",
              "      <td>Scientific Literature</td>\n",
              "      <td>J. Med. Chem.</td>\n",
              "      <td>1996.0</td>\n",
              "      <td>None</td>\n",
              "    </tr>\n",
              "    <tr>\n",
              "      <th>2</th>\n",
              "      <td>CHEMBL263480</td>\n",
              "      <td>NaN</td>\n",
              "      <td>0</td>\n",
              "      <td>298.32</td>\n",
              "      <td>0</td>\n",
              "      <td>-0.11</td>\n",
              "      <td>71</td>\n",
              "      <td>CCOC(=O)CCCn1c(=O)c2nsnc2n(C)c1=O</td>\n",
              "      <td>IC50</td>\n",
              "      <td>'='</td>\n",
              "      <td>25000.0</td>\n",
              "      <td>nM</td>\n",
              "      <td>4.60</td>\n",
              "      <td>NaN</td>\n",
              "      <td>NaN</td>\n",
              "      <td>UO_0000065</td>\n",
              "      <td>NaN</td>\n",
              "      <td>NaN</td>\n",
              "      <td>NaN</td>\n",
              "      <td>NaN</td>\n",
              "      <td>False</td>\n",
              "      <td>CHEMBL873375</td>\n",
              "      <td>TNF-alpha production in PBMC by ELISA method</td>\n",
              "      <td>F</td>\n",
              "      <td>BAO_0000019</td>\n",
              "      <td>assay format</td>\n",
              "      <td>None</td>\n",
              "      <td>None</td>\n",
              "      <td>None</td>\n",
              "      <td>None</td>\n",
              "      <td>None</td>\n",
              "      <td>CHEMBL1825</td>\n",
              "      <td>TNF-alpha</td>\n",
              "      <td>Homo sapiens</td>\n",
              "      <td>SINGLE PROTEIN</td>\n",
              "      <td>CHEMBL1129287</td>\n",
              "      <td>1</td>\n",
              "      <td>Scientific Literature</td>\n",
              "      <td>J. Med. Chem.</td>\n",
              "      <td>1996.0</td>\n",
              "      <td>None</td>\n",
              "    </tr>\n",
              "    <tr>\n",
              "      <th>3</th>\n",
              "      <td>CHEMBL1384893</td>\n",
              "      <td>NaN</td>\n",
              "      <td>0</td>\n",
              "      <td>400.50</td>\n",
              "      <td>0</td>\n",
              "      <td>2.86</td>\n",
              "      <td>SID85176646</td>\n",
              "      <td>COc1ccc(CNS(=O)(=O)c2ccc3c(c2)CC(C)N3C(=O)C2CC...</td>\n",
              "      <td>IC50</td>\n",
              "      <td>'&gt;'</td>\n",
              "      <td>20000.0</td>\n",
              "      <td>nM</td>\n",
              "      <td>NaN</td>\n",
              "      <td>NaN</td>\n",
              "      <td>inactive</td>\n",
              "      <td>UO_0000065</td>\n",
              "      <td>NaN</td>\n",
              "      <td>NaN</td>\n",
              "      <td>NaN</td>\n",
              "      <td>NaN</td>\n",
              "      <td>False</td>\n",
              "      <td>CHEMBL1737942</td>\n",
              "      <td>PUBCHEM_BIOASSAY: SAR analysis of inhibitors o...</td>\n",
              "      <td>F</td>\n",
              "      <td>BAO_0000019</td>\n",
              "      <td>assay format</td>\n",
              "      <td>Homo sapiens</td>\n",
              "      <td>None</td>\n",
              "      <td>None</td>\n",
              "      <td>None</td>\n",
              "      <td>None</td>\n",
              "      <td>CHEMBL1825</td>\n",
              "      <td>TNF-alpha</td>\n",
              "      <td>Homo sapiens</td>\n",
              "      <td>SINGLE PROTEIN</td>\n",
              "      <td>CHEMBL1201862</td>\n",
              "      <td>7</td>\n",
              "      <td>PubChem BioAssays</td>\n",
              "      <td>NaN</td>\n",
              "      <td>NaN</td>\n",
              "      <td>None</td>\n",
              "    </tr>\n",
              "    <tr>\n",
              "      <th>4</th>\n",
              "      <td>CHEMBL1699379</td>\n",
              "      <td>NaN</td>\n",
              "      <td>0</td>\n",
              "      <td>433.96</td>\n",
              "      <td>0</td>\n",
              "      <td>3.15</td>\n",
              "      <td>SID85248287</td>\n",
              "      <td>CCC(=O)N1CCc2cc(S(=O)(=O)N3CCN(c4ccc(Cl)cc4)CC...</td>\n",
              "      <td>IC50</td>\n",
              "      <td>'&gt;'</td>\n",
              "      <td>20000.0</td>\n",
              "      <td>nM</td>\n",
              "      <td>NaN</td>\n",
              "      <td>NaN</td>\n",
              "      <td>inactive</td>\n",
              "      <td>UO_0000065</td>\n",
              "      <td>NaN</td>\n",
              "      <td>NaN</td>\n",
              "      <td>NaN</td>\n",
              "      <td>NaN</td>\n",
              "      <td>False</td>\n",
              "      <td>CHEMBL1737942</td>\n",
              "      <td>PUBCHEM_BIOASSAY: SAR analysis of inhibitors o...</td>\n",
              "      <td>F</td>\n",
              "      <td>BAO_0000019</td>\n",
              "      <td>assay format</td>\n",
              "      <td>Homo sapiens</td>\n",
              "      <td>None</td>\n",
              "      <td>None</td>\n",
              "      <td>None</td>\n",
              "      <td>None</td>\n",
              "      <td>CHEMBL1825</td>\n",
              "      <td>TNF-alpha</td>\n",
              "      <td>Homo sapiens</td>\n",
              "      <td>SINGLE PROTEIN</td>\n",
              "      <td>CHEMBL1201862</td>\n",
              "      <td>7</td>\n",
              "      <td>PubChem BioAssays</td>\n",
              "      <td>NaN</td>\n",
              "      <td>NaN</td>\n",
              "      <td>None</td>\n",
              "    </tr>\n",
              "  </tbody>\n",
              "</table>\n",
              "</div>"
            ],
            "text/plain": [
              "  Molecule ChEMBL ID Molecule Name  ...  Document Year Cell ChEMBL ID\n",
              "0       CHEMBL341096           NaN  ...         1999.0           None\n",
              "1       CHEMBL169239           NaN  ...         1996.0           None\n",
              "2       CHEMBL263480           NaN  ...         1996.0           None\n",
              "3      CHEMBL1384893           NaN  ...            NaN           None\n",
              "4      CHEMBL1699379           NaN  ...            NaN           None\n",
              "\n",
              "[5 rows x 41 columns]"
            ]
          },
          "metadata": {
            "tags": []
          },
          "execution_count": 14
        }
      ]
    },
    {
      "cell_type": "code",
      "metadata": {
        "id": "2lyWfuOeI3Cd",
        "outputId": "47ebda34-1875-4b71-ab00-f28afb8304d0",
        "colab": {
          "base_uri": "https://localhost:8080/",
          "height": 34
        }
      },
      "source": [
        "data.shape"
      ],
      "execution_count": null,
      "outputs": [
        {
          "output_type": "execute_result",
          "data": {
            "text/plain": [
              "(1668, 41)"
            ]
          },
          "metadata": {
            "tags": []
          },
          "execution_count": 15
        }
      ]
    },
    {
      "cell_type": "code",
      "metadata": {
        "id": "gIpvYNIoUUz4",
        "outputId": "e91c39c4-d477-4ed9-a979-c0d7df17d36b",
        "colab": {
          "base_uri": "https://localhost:8080/",
          "height": 745
        }
      },
      "source": [
        "cols = list(data.columns)\n",
        "cols"
      ],
      "execution_count": null,
      "outputs": [
        {
          "output_type": "execute_result",
          "data": {
            "text/plain": [
              "['Molecule ChEMBL ID',\n",
              " 'Molecule Name',\n",
              " 'Molecule Max Phase',\n",
              " 'Molecular Weight',\n",
              " '#RO5 Violations',\n",
              " 'AlogP',\n",
              " 'Compound Key',\n",
              " 'Smiles',\n",
              " 'Standard Type',\n",
              " 'Standard Relation',\n",
              " 'Standard Value',\n",
              " 'Standard Units',\n",
              " 'pChEMBL Value',\n",
              " 'Data Validity Comment',\n",
              " 'Comment',\n",
              " 'Uo Units',\n",
              " 'Ligand Efficiency BEI',\n",
              " 'Ligand Efficiency LE',\n",
              " 'Ligand Efficiency LLE',\n",
              " 'Ligand Efficiency SEI',\n",
              " 'Potential Duplicate',\n",
              " 'Assay ChEMBL ID',\n",
              " 'Assay Description',\n",
              " 'Assay Type',\n",
              " 'BAO Format ID',\n",
              " 'BAO Label',\n",
              " 'Assay Organism',\n",
              " 'Assay Tissue ChEMBL ID',\n",
              " 'Assay Tissue Name',\n",
              " 'Assay Cell Type',\n",
              " 'Assay Subcellular Fraction',\n",
              " 'Target ChEMBL ID',\n",
              " 'Target Name',\n",
              " 'Target Organism',\n",
              " 'Target Type',\n",
              " 'Document ChEMBL ID',\n",
              " 'Source ID',\n",
              " 'Source Description',\n",
              " 'Document Journal',\n",
              " 'Document Year',\n",
              " 'Cell ChEMBL ID']"
            ]
          },
          "metadata": {
            "tags": []
          },
          "execution_count": 16
        }
      ]
    },
    {
      "cell_type": "code",
      "metadata": {
        "id": "N9XYqvP_Ukuo"
      },
      "source": [
        "cols_we_need = ['Molecule ChEMBL ID', \n",
        "                'Smiles', \n",
        "                'Standard Type', \n",
        "                'Standard Value', \n",
        "                'Standard Units',\n",
        "                'Assay Type',\n",
        "                'Assay Organism',\n",
        "                'Target Organism']"
      ],
      "execution_count": null,
      "outputs": []
    },
    {
      "cell_type": "code",
      "metadata": {
        "id": "bvgRHNU9U2RC",
        "outputId": "0f181f88-ec0a-4bd7-e6c4-000c016eebd0",
        "colab": {
          "base_uri": "https://localhost:8080/",
          "height": 158
        }
      },
      "source": [
        "cols_we_need"
      ],
      "execution_count": null,
      "outputs": [
        {
          "output_type": "execute_result",
          "data": {
            "text/plain": [
              "['Molecule ChEMBL ID',\n",
              " 'Smiles',\n",
              " 'Standard Type',\n",
              " 'Standard Value',\n",
              " 'Standard Units',\n",
              " 'Assay Type',\n",
              " 'Assay Organism',\n",
              " 'Target Organism']"
            ]
          },
          "metadata": {
            "tags": []
          },
          "execution_count": 18
        }
      ]
    },
    {
      "cell_type": "code",
      "metadata": {
        "id": "HkEULXYEWVA6"
      },
      "source": [
        "data_ed = data[cols_we_need]"
      ],
      "execution_count": null,
      "outputs": []
    },
    {
      "cell_type": "code",
      "metadata": {
        "id": "oGiURBmXfcT1",
        "outputId": "b88f25ad-a7b4-4498-e945-6cf2f6ae6e52",
        "colab": {
          "base_uri": "https://localhost:8080/",
          "height": 406
        }
      },
      "source": [
        "data_ed"
      ],
      "execution_count": null,
      "outputs": [
        {
          "output_type": "execute_result",
          "data": {
            "text/html": [
              "<div>\n",
              "<style scoped>\n",
              "    .dataframe tbody tr th:only-of-type {\n",
              "        vertical-align: middle;\n",
              "    }\n",
              "\n",
              "    .dataframe tbody tr th {\n",
              "        vertical-align: top;\n",
              "    }\n",
              "\n",
              "    .dataframe thead th {\n",
              "        text-align: right;\n",
              "    }\n",
              "</style>\n",
              "<table border=\"1\" class=\"dataframe\">\n",
              "  <thead>\n",
              "    <tr style=\"text-align: right;\">\n",
              "      <th></th>\n",
              "      <th>Molecule ChEMBL ID</th>\n",
              "      <th>Smiles</th>\n",
              "      <th>Standard Type</th>\n",
              "      <th>Standard Value</th>\n",
              "      <th>Standard Units</th>\n",
              "      <th>Assay Type</th>\n",
              "      <th>Assay Organism</th>\n",
              "      <th>Target Organism</th>\n",
              "    </tr>\n",
              "  </thead>\n",
              "  <tbody>\n",
              "    <tr>\n",
              "      <th>0</th>\n",
              "      <td>CHEMBL341096</td>\n",
              "      <td>CCOC(=O)CCCn1cc([N+](=O)[O-])c2cc(OC)c(OC)cc2c1=O</td>\n",
              "      <td>IC50</td>\n",
              "      <td>35000.0</td>\n",
              "      <td>nM</td>\n",
              "      <td>F</td>\n",
              "      <td>None</td>\n",
              "      <td>Homo sapiens</td>\n",
              "    </tr>\n",
              "    <tr>\n",
              "      <th>1</th>\n",
              "      <td>CHEMBL169239</td>\n",
              "      <td>CCOC(=O)CCCn1c(=O)c2nccnc2n(C)c1=O</td>\n",
              "      <td>IC50</td>\n",
              "      <td>12000.0</td>\n",
              "      <td>nM</td>\n",
              "      <td>F</td>\n",
              "      <td>None</td>\n",
              "      <td>Homo sapiens</td>\n",
              "    </tr>\n",
              "    <tr>\n",
              "      <th>2</th>\n",
              "      <td>CHEMBL263480</td>\n",
              "      <td>CCOC(=O)CCCn1c(=O)c2nsnc2n(C)c1=O</td>\n",
              "      <td>IC50</td>\n",
              "      <td>25000.0</td>\n",
              "      <td>nM</td>\n",
              "      <td>F</td>\n",
              "      <td>None</td>\n",
              "      <td>Homo sapiens</td>\n",
              "    </tr>\n",
              "    <tr>\n",
              "      <th>3</th>\n",
              "      <td>CHEMBL1384893</td>\n",
              "      <td>COc1ccc(CNS(=O)(=O)c2ccc3c(c2)CC(C)N3C(=O)C2CC...</td>\n",
              "      <td>IC50</td>\n",
              "      <td>20000.0</td>\n",
              "      <td>nM</td>\n",
              "      <td>F</td>\n",
              "      <td>Homo sapiens</td>\n",
              "      <td>Homo sapiens</td>\n",
              "    </tr>\n",
              "    <tr>\n",
              "      <th>4</th>\n",
              "      <td>CHEMBL1699379</td>\n",
              "      <td>CCC(=O)N1CCc2cc(S(=O)(=O)N3CCN(c4ccc(Cl)cc4)CC...</td>\n",
              "      <td>IC50</td>\n",
              "      <td>20000.0</td>\n",
              "      <td>nM</td>\n",
              "      <td>F</td>\n",
              "      <td>Homo sapiens</td>\n",
              "      <td>Homo sapiens</td>\n",
              "    </tr>\n",
              "    <tr>\n",
              "      <th>...</th>\n",
              "      <td>...</td>\n",
              "      <td>...</td>\n",
              "      <td>...</td>\n",
              "      <td>...</td>\n",
              "      <td>...</td>\n",
              "      <td>...</td>\n",
              "      <td>...</td>\n",
              "      <td>...</td>\n",
              "    </tr>\n",
              "    <tr>\n",
              "      <th>1663</th>\n",
              "      <td>CHEMBL704</td>\n",
              "      <td>Nc1ccc(O)c(C(=O)O)c1</td>\n",
              "      <td>IC50</td>\n",
              "      <td>20600000.0</td>\n",
              "      <td>nM</td>\n",
              "      <td>B</td>\n",
              "      <td>Homo sapiens</td>\n",
              "      <td>Homo sapiens</td>\n",
              "    </tr>\n",
              "    <tr>\n",
              "      <th>1664</th>\n",
              "      <td>CHEMBL4128842</td>\n",
              "      <td>Cl.O=C1/C(=C/c2ccncc2)Cc2cccc(O)c21</td>\n",
              "      <td>Inhibition</td>\n",
              "      <td>NaN</td>\n",
              "      <td>NaN</td>\n",
              "      <td>B</td>\n",
              "      <td>Homo sapiens</td>\n",
              "      <td>Homo sapiens</td>\n",
              "    </tr>\n",
              "    <tr>\n",
              "      <th>1665</th>\n",
              "      <td>CHEMBL4068672</td>\n",
              "      <td>CCCNC(=O)CC[C@H]1NC(=O)c2cc(Oc3cccc(N(C)C)c3)c...</td>\n",
              "      <td>Inhibition</td>\n",
              "      <td>NaN</td>\n",
              "      <td>NaN</td>\n",
              "      <td>B</td>\n",
              "      <td>Homo sapiens</td>\n",
              "      <td>Homo sapiens</td>\n",
              "    </tr>\n",
              "    <tr>\n",
              "      <th>1666</th>\n",
              "      <td>CHEMBL4211883</td>\n",
              "      <td>Nc1ncc(-c2ccc3ncc(S(=O)(=O)N4CCN(c5ccccn5)CC4)...</td>\n",
              "      <td>IC50</td>\n",
              "      <td>11000.0</td>\n",
              "      <td>nM</td>\n",
              "      <td>B</td>\n",
              "      <td>Homo sapiens</td>\n",
              "      <td>Homo sapiens</td>\n",
              "    </tr>\n",
              "    <tr>\n",
              "      <th>1667</th>\n",
              "      <td>CHEMBL4216705</td>\n",
              "      <td>Nc1ncc(-c2ccc3ncc(S(N)(=O)=O)n3n2)cc1C(F)(F)F</td>\n",
              "      <td>IC50</td>\n",
              "      <td>4000.0</td>\n",
              "      <td>nM</td>\n",
              "      <td>B</td>\n",
              "      <td>Homo sapiens</td>\n",
              "      <td>Homo sapiens</td>\n",
              "    </tr>\n",
              "  </tbody>\n",
              "</table>\n",
              "<p>1668 rows × 8 columns</p>\n",
              "</div>"
            ],
            "text/plain": [
              "     Molecule ChEMBL ID  ... Target Organism\n",
              "0          CHEMBL341096  ...    Homo sapiens\n",
              "1          CHEMBL169239  ...    Homo sapiens\n",
              "2          CHEMBL263480  ...    Homo sapiens\n",
              "3         CHEMBL1384893  ...    Homo sapiens\n",
              "4         CHEMBL1699379  ...    Homo sapiens\n",
              "...                 ...  ...             ...\n",
              "1663          CHEMBL704  ...    Homo sapiens\n",
              "1664      CHEMBL4128842  ...    Homo sapiens\n",
              "1665      CHEMBL4068672  ...    Homo sapiens\n",
              "1666      CHEMBL4211883  ...    Homo sapiens\n",
              "1667      CHEMBL4216705  ...    Homo sapiens\n",
              "\n",
              "[1668 rows x 8 columns]"
            ]
          },
          "metadata": {
            "tags": []
          },
          "execution_count": 74
        }
      ]
    },
    {
      "cell_type": "code",
      "metadata": {
        "id": "Pia4ypvwfukB",
        "outputId": "2fba2bc9-008e-4dc8-98b1-136a45430ff2",
        "colab": {
          "base_uri": "https://localhost:8080/",
          "height": 176
        }
      },
      "source": [
        "data_ed.isna().sum()"
      ],
      "execution_count": null,
      "outputs": [
        {
          "output_type": "execute_result",
          "data": {
            "text/plain": [
              "Molecule ChEMBL ID      0\n",
              "Smiles                  2\n",
              "Standard Type           0\n",
              "Standard Value        157\n",
              "Standard Units        178\n",
              "Assay Type              0\n",
              "Assay Organism          0\n",
              "Target Organism         0\n",
              "dtype: int64"
            ]
          },
          "metadata": {
            "tags": []
          },
          "execution_count": 75
        }
      ]
    },
    {
      "cell_type": "code",
      "metadata": {
        "id": "f4rRfzplhwTT"
      },
      "source": [
        "data_ed = data_ed.dropna()"
      ],
      "execution_count": null,
      "outputs": []
    },
    {
      "cell_type": "code",
      "metadata": {
        "id": "tbxK5A3RiYUa",
        "outputId": "677bcf3f-4996-4ee1-eec6-b5b9db6f553f",
        "colab": {
          "base_uri": "https://localhost:8080/",
          "height": 176
        }
      },
      "source": [
        "data_ed.isna().sum()"
      ],
      "execution_count": null,
      "outputs": [
        {
          "output_type": "execute_result",
          "data": {
            "text/plain": [
              "Molecule ChEMBL ID    0\n",
              "Smiles                0\n",
              "Standard Type         0\n",
              "Standard Value        0\n",
              "Standard Units        0\n",
              "Assay Type            0\n",
              "Assay Organism        0\n",
              "Target Organism       0\n",
              "dtype: int64"
            ]
          },
          "metadata": {
            "tags": []
          },
          "execution_count": 77
        }
      ]
    },
    {
      "cell_type": "code",
      "metadata": {
        "id": "tSpxbpqJibtO"
      },
      "source": [
        "u_values = []\n",
        "for i in range(0,len(data_ed.columns)):\n",
        "  u_val = data_ed[data_ed.columns[i]].nunique()\n",
        "  u_values.append(u_val)"
      ],
      "execution_count": null,
      "outputs": []
    },
    {
      "cell_type": "code",
      "metadata": {
        "id": "GARjDP1ljD1f",
        "outputId": "96afa81b-51ba-41ee-ecda-a4c5a763b39c",
        "colab": {
          "base_uri": "https://localhost:8080/",
          "height": 34
        }
      },
      "source": [
        "u_values"
      ],
      "execution_count": null,
      "outputs": [
        {
          "output_type": "execute_result",
          "data": {
            "text/plain": [
              "[993, 993, 7, 830, 3, 2, 2, 1]"
            ]
          },
          "metadata": {
            "tags": []
          },
          "execution_count": 79
        }
      ]
    },
    {
      "cell_type": "code",
      "metadata": {
        "id": "reEUNUL0jFLz"
      },
      "source": [
        "data_ed_droped = data_ed.drop(['Molecule ChEMBL ID', 'Smiles', 'Standard Value'], axis = 1)"
      ],
      "execution_count": null,
      "outputs": []
    },
    {
      "cell_type": "code",
      "metadata": {
        "id": "DGWXMAPerC12"
      },
      "source": [
        "u_name_values = []\n",
        "for i in range(0,len(data_ed_droped.columns)):\n",
        "  u_n_val = list(data_ed[data_ed_droped.columns[i]].unique())\n",
        "  u_name_values.append(u_n_val)"
      ],
      "execution_count": null,
      "outputs": []
    },
    {
      "cell_type": "code",
      "metadata": {
        "id": "ls-fljaUrKkc",
        "outputId": "12eb2b50-6bc5-41c5-a505-d0068140c88c",
        "colab": {
          "base_uri": "https://localhost:8080/",
          "height": 105
        }
      },
      "source": [
        "u_name_values"
      ],
      "execution_count": null,
      "outputs": [
        {
          "output_type": "execute_result",
          "data": {
            "text/plain": [
              "[['IC50', 'Potency', 'Ki', 'EC50', 'Inhibition', 'Kd', 'Activity'],\n",
              " ['nM', '%', 'kDa'],\n",
              " ['F', 'B'],\n",
              " ['None', 'Homo sapiens'],\n",
              " ['Homo sapiens']]"
            ]
          },
          "metadata": {
            "tags": []
          },
          "execution_count": 82
        }
      ]
    },
    {
      "cell_type": "code",
      "metadata": {
        "id": "xviHSoP0vAz0"
      },
      "source": [
        "data_ed = data_ed.rename({'Molecule ChEMBL ID':'molecule_chembl_id',\n",
        "                          'Standard Type':'standard_type',\n",
        "                          'Standard Value':'standard_value',\n",
        "                          'Standard Units':'standard_units',\n",
        "                          'Assay Type':'assay_type',\n",
        "                          'Assay Organism':'assay_organism',\n",
        "                          'Target Organism':'target_organism'}, axis = 1)"
      ],
      "execution_count": null,
      "outputs": []
    },
    {
      "cell_type": "code",
      "metadata": {
        "id": "G-Yj9GoAxUhV",
        "outputId": "919f18ea-ba38-4b77-e077-58aa1f4dc1a0",
        "colab": {
          "base_uri": "https://localhost:8080/",
          "height": 266
        }
      },
      "source": [
        "data_ed.head()"
      ],
      "execution_count": null,
      "outputs": [
        {
          "output_type": "execute_result",
          "data": {
            "text/html": [
              "<div>\n",
              "<style scoped>\n",
              "    .dataframe tbody tr th:only-of-type {\n",
              "        vertical-align: middle;\n",
              "    }\n",
              "\n",
              "    .dataframe tbody tr th {\n",
              "        vertical-align: top;\n",
              "    }\n",
              "\n",
              "    .dataframe thead th {\n",
              "        text-align: right;\n",
              "    }\n",
              "</style>\n",
              "<table border=\"1\" class=\"dataframe\">\n",
              "  <thead>\n",
              "    <tr style=\"text-align: right;\">\n",
              "      <th></th>\n",
              "      <th>molecule_chembl_id</th>\n",
              "      <th>Smiles</th>\n",
              "      <th>standard_type</th>\n",
              "      <th>standard_value</th>\n",
              "      <th>standard_units</th>\n",
              "      <th>assay_type</th>\n",
              "      <th>assay_organism</th>\n",
              "      <th>target_organism</th>\n",
              "    </tr>\n",
              "  </thead>\n",
              "  <tbody>\n",
              "    <tr>\n",
              "      <th>0</th>\n",
              "      <td>CHEMBL341096</td>\n",
              "      <td>CCOC(=O)CCCn1cc([N+](=O)[O-])c2cc(OC)c(OC)cc2c1=O</td>\n",
              "      <td>IC50</td>\n",
              "      <td>35000.0</td>\n",
              "      <td>nM</td>\n",
              "      <td>F</td>\n",
              "      <td>None</td>\n",
              "      <td>Homo sapiens</td>\n",
              "    </tr>\n",
              "    <tr>\n",
              "      <th>1</th>\n",
              "      <td>CHEMBL169239</td>\n",
              "      <td>CCOC(=O)CCCn1c(=O)c2nccnc2n(C)c1=O</td>\n",
              "      <td>IC50</td>\n",
              "      <td>12000.0</td>\n",
              "      <td>nM</td>\n",
              "      <td>F</td>\n",
              "      <td>None</td>\n",
              "      <td>Homo sapiens</td>\n",
              "    </tr>\n",
              "    <tr>\n",
              "      <th>2</th>\n",
              "      <td>CHEMBL263480</td>\n",
              "      <td>CCOC(=O)CCCn1c(=O)c2nsnc2n(C)c1=O</td>\n",
              "      <td>IC50</td>\n",
              "      <td>25000.0</td>\n",
              "      <td>nM</td>\n",
              "      <td>F</td>\n",
              "      <td>None</td>\n",
              "      <td>Homo sapiens</td>\n",
              "    </tr>\n",
              "    <tr>\n",
              "      <th>3</th>\n",
              "      <td>CHEMBL1384893</td>\n",
              "      <td>COc1ccc(CNS(=O)(=O)c2ccc3c(c2)CC(C)N3C(=O)C2CC...</td>\n",
              "      <td>IC50</td>\n",
              "      <td>20000.0</td>\n",
              "      <td>nM</td>\n",
              "      <td>F</td>\n",
              "      <td>Homo sapiens</td>\n",
              "      <td>Homo sapiens</td>\n",
              "    </tr>\n",
              "    <tr>\n",
              "      <th>4</th>\n",
              "      <td>CHEMBL1699379</td>\n",
              "      <td>CCC(=O)N1CCc2cc(S(=O)(=O)N3CCN(c4ccc(Cl)cc4)CC...</td>\n",
              "      <td>IC50</td>\n",
              "      <td>20000.0</td>\n",
              "      <td>nM</td>\n",
              "      <td>F</td>\n",
              "      <td>Homo sapiens</td>\n",
              "      <td>Homo sapiens</td>\n",
              "    </tr>\n",
              "  </tbody>\n",
              "</table>\n",
              "</div>"
            ],
            "text/plain": [
              "  molecule_chembl_id  ... target_organism\n",
              "0       CHEMBL341096  ...    Homo sapiens\n",
              "1       CHEMBL169239  ...    Homo sapiens\n",
              "2       CHEMBL263480  ...    Homo sapiens\n",
              "3      CHEMBL1384893  ...    Homo sapiens\n",
              "4      CHEMBL1699379  ...    Homo sapiens\n",
              "\n",
              "[5 rows x 8 columns]"
            ]
          },
          "metadata": {
            "tags": []
          },
          "execution_count": 84
        }
      ]
    },
    {
      "cell_type": "code",
      "metadata": {
        "id": "dC7kwd_evwGy"
      },
      "source": [
        "data_last = data_ed.query(\"standard_type =='IC50' & standard_units =='nM' & assay_type=='B' & assay_organism =='Homo sapiens'& target_organism =='Homo sapiens'\")"
      ],
      "execution_count": null,
      "outputs": []
    },
    {
      "cell_type": "code",
      "metadata": {
        "id": "obEMvVA63Vki",
        "outputId": "6abea0db-1bff-4bbf-e0fc-4bb60dbe3f3f",
        "colab": {
          "base_uri": "https://localhost:8080/",
          "height": 422
        }
      },
      "source": [
        "data_last"
      ],
      "execution_count": null,
      "outputs": [
        {
          "output_type": "execute_result",
          "data": {
            "text/html": [
              "<div>\n",
              "<style scoped>\n",
              "    .dataframe tbody tr th:only-of-type {\n",
              "        vertical-align: middle;\n",
              "    }\n",
              "\n",
              "    .dataframe tbody tr th {\n",
              "        vertical-align: top;\n",
              "    }\n",
              "\n",
              "    .dataframe thead th {\n",
              "        text-align: right;\n",
              "    }\n",
              "</style>\n",
              "<table border=\"1\" class=\"dataframe\">\n",
              "  <thead>\n",
              "    <tr style=\"text-align: right;\">\n",
              "      <th></th>\n",
              "      <th>molecule_chembl_id</th>\n",
              "      <th>Smiles</th>\n",
              "      <th>standard_type</th>\n",
              "      <th>standard_value</th>\n",
              "      <th>standard_units</th>\n",
              "      <th>assay_type</th>\n",
              "      <th>assay_organism</th>\n",
              "      <th>target_organism</th>\n",
              "    </tr>\n",
              "  </thead>\n",
              "  <tbody>\n",
              "    <tr>\n",
              "      <th>34</th>\n",
              "      <td>CHEMBL3640324</td>\n",
              "      <td>COc1ccc2c(c1F)C(=O)N(C[C@@]1(C#Cc3ccc(N4CCNCC4...</td>\n",
              "      <td>IC50</td>\n",
              "      <td>118.0</td>\n",
              "      <td>nM</td>\n",
              "      <td>B</td>\n",
              "      <td>Homo sapiens</td>\n",
              "      <td>Homo sapiens</td>\n",
              "    </tr>\n",
              "    <tr>\n",
              "      <th>39</th>\n",
              "      <td>CHEMBL3640408</td>\n",
              "      <td>COc1ccc2c(c1)C(=O)N(C[C@@]1(C#Cc3ccc(NC(=O)C4C...</td>\n",
              "      <td>IC50</td>\n",
              "      <td>78.0</td>\n",
              "      <td>nM</td>\n",
              "      <td>B</td>\n",
              "      <td>Homo sapiens</td>\n",
              "      <td>Homo sapiens</td>\n",
              "    </tr>\n",
              "    <tr>\n",
              "      <th>40</th>\n",
              "      <td>CHEMBL3642557</td>\n",
              "      <td>COc1ccc2c(c1)C(=O)N(CC1(C#Cc3ccc(/N=C(\\NC#N)NC...</td>\n",
              "      <td>IC50</td>\n",
              "      <td>268.0</td>\n",
              "      <td>nM</td>\n",
              "      <td>B</td>\n",
              "      <td>Homo sapiens</td>\n",
              "      <td>Homo sapiens</td>\n",
              "    </tr>\n",
              "    <tr>\n",
              "      <th>41</th>\n",
              "      <td>CHEMBL3642442</td>\n",
              "      <td>COc1ccc2c(c1)C(=O)N(C[C@@]1(C#Cc3ccc(C4(CN)NC(...</td>\n",
              "      <td>IC50</td>\n",
              "      <td>229.0</td>\n",
              "      <td>nM</td>\n",
              "      <td>B</td>\n",
              "      <td>Homo sapiens</td>\n",
              "      <td>Homo sapiens</td>\n",
              "    </tr>\n",
              "    <tr>\n",
              "      <th>66</th>\n",
              "      <td>CHEMBL3326305</td>\n",
              "      <td>O=C1Nc2ccc(S(=O)(=O)Nc3ccc(O)c(Cl)c3)c3cccc1c23</td>\n",
              "      <td>IC50</td>\n",
              "      <td>45700.0</td>\n",
              "      <td>nM</td>\n",
              "      <td>B</td>\n",
              "      <td>Homo sapiens</td>\n",
              "      <td>Homo sapiens</td>\n",
              "    </tr>\n",
              "    <tr>\n",
              "      <th>...</th>\n",
              "      <td>...</td>\n",
              "      <td>...</td>\n",
              "      <td>...</td>\n",
              "      <td>...</td>\n",
              "      <td>...</td>\n",
              "      <td>...</td>\n",
              "      <td>...</td>\n",
              "      <td>...</td>\n",
              "    </tr>\n",
              "    <tr>\n",
              "      <th>1661</th>\n",
              "      <td>CHEMBL4217876</td>\n",
              "      <td>CCN1CCN(S(=O)(=O)c2cnc3ccc(Cl)nn23)CC1</td>\n",
              "      <td>IC50</td>\n",
              "      <td>30000.0</td>\n",
              "      <td>nM</td>\n",
              "      <td>B</td>\n",
              "      <td>Homo sapiens</td>\n",
              "      <td>Homo sapiens</td>\n",
              "    </tr>\n",
              "    <tr>\n",
              "      <th>1662</th>\n",
              "      <td>CHEMBL4208862</td>\n",
              "      <td>CCN1CCN(S(=O)(=O)c2cnc3ccc(-c4ccc(OC)nc4)nn23)CC1</td>\n",
              "      <td>IC50</td>\n",
              "      <td>20000.0</td>\n",
              "      <td>nM</td>\n",
              "      <td>B</td>\n",
              "      <td>Homo sapiens</td>\n",
              "      <td>Homo sapiens</td>\n",
              "    </tr>\n",
              "    <tr>\n",
              "      <th>1663</th>\n",
              "      <td>CHEMBL704</td>\n",
              "      <td>Nc1ccc(O)c(C(=O)O)c1</td>\n",
              "      <td>IC50</td>\n",
              "      <td>20600000.0</td>\n",
              "      <td>nM</td>\n",
              "      <td>B</td>\n",
              "      <td>Homo sapiens</td>\n",
              "      <td>Homo sapiens</td>\n",
              "    </tr>\n",
              "    <tr>\n",
              "      <th>1666</th>\n",
              "      <td>CHEMBL4211883</td>\n",
              "      <td>Nc1ncc(-c2ccc3ncc(S(=O)(=O)N4CCN(c5ccccn5)CC4)...</td>\n",
              "      <td>IC50</td>\n",
              "      <td>11000.0</td>\n",
              "      <td>nM</td>\n",
              "      <td>B</td>\n",
              "      <td>Homo sapiens</td>\n",
              "      <td>Homo sapiens</td>\n",
              "    </tr>\n",
              "    <tr>\n",
              "      <th>1667</th>\n",
              "      <td>CHEMBL4216705</td>\n",
              "      <td>Nc1ncc(-c2ccc3ncc(S(N)(=O)=O)n3n2)cc1C(F)(F)F</td>\n",
              "      <td>IC50</td>\n",
              "      <td>4000.0</td>\n",
              "      <td>nM</td>\n",
              "      <td>B</td>\n",
              "      <td>Homo sapiens</td>\n",
              "      <td>Homo sapiens</td>\n",
              "    </tr>\n",
              "  </tbody>\n",
              "</table>\n",
              "<p>463 rows × 8 columns</p>\n",
              "</div>"
            ],
            "text/plain": [
              "     molecule_chembl_id  ... target_organism\n",
              "34        CHEMBL3640324  ...    Homo sapiens\n",
              "39        CHEMBL3640408  ...    Homo sapiens\n",
              "40        CHEMBL3642557  ...    Homo sapiens\n",
              "41        CHEMBL3642442  ...    Homo sapiens\n",
              "66        CHEMBL3326305  ...    Homo sapiens\n",
              "...                 ...  ...             ...\n",
              "1661      CHEMBL4217876  ...    Homo sapiens\n",
              "1662      CHEMBL4208862  ...    Homo sapiens\n",
              "1663          CHEMBL704  ...    Homo sapiens\n",
              "1666      CHEMBL4211883  ...    Homo sapiens\n",
              "1667      CHEMBL4216705  ...    Homo sapiens\n",
              "\n",
              "[463 rows x 8 columns]"
            ]
          },
          "metadata": {
            "tags": []
          },
          "execution_count": 89
        }
      ]
    },
    {
      "cell_type": "code",
      "metadata": {
        "id": "iKUoJSoZ31ju"
      },
      "source": [
        ""
      ],
      "execution_count": null,
      "outputs": []
    }
  ]
}