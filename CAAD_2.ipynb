{
 "cells": [
  {
   "cell_type": "code",
   "execution_count": 1,
   "metadata": {
    "id": "TucSRzmGCHS9"
   },
   "outputs": [],
   "source": [
    "import pandas as pd"
   ]
  },
  {
   "cell_type": "code",
   "execution_count": 2,
   "metadata": {
    "id": "sWFcrIgOIFTM"
   },
   "outputs": [],
   "source": [
    "data = pd.read_csv('sample_tnf-alpha.csv', sep=';')"
   ]
  },
  {
   "cell_type": "code",
   "execution_count": 3,
   "metadata": {
    "colab": {
     "base_uri": "https://localhost:8080/",
     "height": 445
    },
    "id": "N8irVvsLDPdE",
    "outputId": "3a84d958-8289-4eed-8cca-29aeb68b10d4"
   },
   "outputs": [
    {
     "data": {
      "text/html": [
       "<div>\n",
       "<style scoped>\n",
       "    .dataframe tbody tr th:only-of-type {\n",
       "        vertical-align: middle;\n",
       "    }\n",
       "\n",
       "    .dataframe tbody tr th {\n",
       "        vertical-align: top;\n",
       "    }\n",
       "\n",
       "    .dataframe thead th {\n",
       "        text-align: right;\n",
       "    }\n",
       "</style>\n",
       "<table border=\"1\" class=\"dataframe\">\n",
       "  <thead>\n",
       "    <tr style=\"text-align: right;\">\n",
       "      <th></th>\n",
       "      <th>Molecule ChEMBL ID</th>\n",
       "      <th>Molecule Name</th>\n",
       "      <th>Molecule Max Phase</th>\n",
       "      <th>Molecular Weight</th>\n",
       "      <th>#RO5 Violations</th>\n",
       "      <th>AlogP</th>\n",
       "      <th>Compound Key</th>\n",
       "      <th>Smiles</th>\n",
       "      <th>Standard Type</th>\n",
       "      <th>Standard Relation</th>\n",
       "      <th>...</th>\n",
       "      <th>Target ChEMBL ID</th>\n",
       "      <th>Target Name</th>\n",
       "      <th>Target Organism</th>\n",
       "      <th>Target Type</th>\n",
       "      <th>Document ChEMBL ID</th>\n",
       "      <th>Source ID</th>\n",
       "      <th>Source Description</th>\n",
       "      <th>Document Journal</th>\n",
       "      <th>Document Year</th>\n",
       "      <th>Cell ChEMBL ID</th>\n",
       "    </tr>\n",
       "  </thead>\n",
       "  <tbody>\n",
       "    <tr>\n",
       "      <th>0</th>\n",
       "      <td>CHEMBL341096</td>\n",
       "      <td>NaN</td>\n",
       "      <td>0</td>\n",
       "      <td>364.35</td>\n",
       "      <td>0</td>\n",
       "      <td>2.27</td>\n",
       "      <td>18</td>\n",
       "      <td>CCOC(=O)CCCn1cc([N+](=O)[O-])c2cc(OC)c(OC)cc2c1=O</td>\n",
       "      <td>IC50</td>\n",
       "      <td>'='</td>\n",
       "      <td>...</td>\n",
       "      <td>CHEMBL1825</td>\n",
       "      <td>TNF-alpha</td>\n",
       "      <td>Homo sapiens</td>\n",
       "      <td>SINGLE PROTEIN</td>\n",
       "      <td>CHEMBL1132644</td>\n",
       "      <td>1</td>\n",
       "      <td>Scientific Literature</td>\n",
       "      <td>J. Med. Chem.</td>\n",
       "      <td>1999.0</td>\n",
       "      <td>None</td>\n",
       "    </tr>\n",
       "    <tr>\n",
       "      <th>1</th>\n",
       "      <td>CHEMBL169239</td>\n",
       "      <td>NaN</td>\n",
       "      <td>0</td>\n",
       "      <td>292.30</td>\n",
       "      <td>0</td>\n",
       "      <td>-0.17</td>\n",
       "      <td>57</td>\n",
       "      <td>CCOC(=O)CCCn1c(=O)c2nccnc2n(C)c1=O</td>\n",
       "      <td>IC50</td>\n",
       "      <td>'='</td>\n",
       "      <td>...</td>\n",
       "      <td>CHEMBL1825</td>\n",
       "      <td>TNF-alpha</td>\n",
       "      <td>Homo sapiens</td>\n",
       "      <td>SINGLE PROTEIN</td>\n",
       "      <td>CHEMBL1129287</td>\n",
       "      <td>1</td>\n",
       "      <td>Scientific Literature</td>\n",
       "      <td>J. Med. Chem.</td>\n",
       "      <td>1996.0</td>\n",
       "      <td>None</td>\n",
       "    </tr>\n",
       "    <tr>\n",
       "      <th>2</th>\n",
       "      <td>CHEMBL263480</td>\n",
       "      <td>NaN</td>\n",
       "      <td>0</td>\n",
       "      <td>298.32</td>\n",
       "      <td>0</td>\n",
       "      <td>-0.11</td>\n",
       "      <td>71</td>\n",
       "      <td>CCOC(=O)CCCn1c(=O)c2nsnc2n(C)c1=O</td>\n",
       "      <td>IC50</td>\n",
       "      <td>'='</td>\n",
       "      <td>...</td>\n",
       "      <td>CHEMBL1825</td>\n",
       "      <td>TNF-alpha</td>\n",
       "      <td>Homo sapiens</td>\n",
       "      <td>SINGLE PROTEIN</td>\n",
       "      <td>CHEMBL1129287</td>\n",
       "      <td>1</td>\n",
       "      <td>Scientific Literature</td>\n",
       "      <td>J. Med. Chem.</td>\n",
       "      <td>1996.0</td>\n",
       "      <td>None</td>\n",
       "    </tr>\n",
       "    <tr>\n",
       "      <th>3</th>\n",
       "      <td>CHEMBL1384893</td>\n",
       "      <td>NaN</td>\n",
       "      <td>0</td>\n",
       "      <td>400.50</td>\n",
       "      <td>0</td>\n",
       "      <td>2.86</td>\n",
       "      <td>SID85176646</td>\n",
       "      <td>COc1ccc(CNS(=O)(=O)c2ccc3c(c2)CC(C)N3C(=O)C2CC...</td>\n",
       "      <td>IC50</td>\n",
       "      <td>'&gt;'</td>\n",
       "      <td>...</td>\n",
       "      <td>CHEMBL1825</td>\n",
       "      <td>TNF-alpha</td>\n",
       "      <td>Homo sapiens</td>\n",
       "      <td>SINGLE PROTEIN</td>\n",
       "      <td>CHEMBL1201862</td>\n",
       "      <td>7</td>\n",
       "      <td>PubChem BioAssays</td>\n",
       "      <td>NaN</td>\n",
       "      <td>NaN</td>\n",
       "      <td>None</td>\n",
       "    </tr>\n",
       "    <tr>\n",
       "      <th>4</th>\n",
       "      <td>CHEMBL1699379</td>\n",
       "      <td>NaN</td>\n",
       "      <td>0</td>\n",
       "      <td>433.96</td>\n",
       "      <td>0</td>\n",
       "      <td>3.15</td>\n",
       "      <td>SID85248287</td>\n",
       "      <td>CCC(=O)N1CCc2cc(S(=O)(=O)N3CCN(c4ccc(Cl)cc4)CC...</td>\n",
       "      <td>IC50</td>\n",
       "      <td>'&gt;'</td>\n",
       "      <td>...</td>\n",
       "      <td>CHEMBL1825</td>\n",
       "      <td>TNF-alpha</td>\n",
       "      <td>Homo sapiens</td>\n",
       "      <td>SINGLE PROTEIN</td>\n",
       "      <td>CHEMBL1201862</td>\n",
       "      <td>7</td>\n",
       "      <td>PubChem BioAssays</td>\n",
       "      <td>NaN</td>\n",
       "      <td>NaN</td>\n",
       "      <td>None</td>\n",
       "    </tr>\n",
       "  </tbody>\n",
       "</table>\n",
       "<p>5 rows × 41 columns</p>\n",
       "</div>"
      ],
      "text/plain": [
       "  Molecule ChEMBL ID Molecule Name  Molecule Max Phase Molecular Weight  \\\n",
       "0       CHEMBL341096           NaN                   0           364.35   \n",
       "1       CHEMBL169239           NaN                   0           292.30   \n",
       "2       CHEMBL263480           NaN                   0           298.32   \n",
       "3      CHEMBL1384893           NaN                   0           400.50   \n",
       "4      CHEMBL1699379           NaN                   0           433.96   \n",
       "\n",
       "  #RO5 Violations  AlogP Compound Key  \\\n",
       "0               0   2.27           18   \n",
       "1               0  -0.17           57   \n",
       "2               0  -0.11           71   \n",
       "3               0   2.86  SID85176646   \n",
       "4               0   3.15  SID85248287   \n",
       "\n",
       "                                              Smiles Standard Type  \\\n",
       "0  CCOC(=O)CCCn1cc([N+](=O)[O-])c2cc(OC)c(OC)cc2c1=O          IC50   \n",
       "1                 CCOC(=O)CCCn1c(=O)c2nccnc2n(C)c1=O          IC50   \n",
       "2                  CCOC(=O)CCCn1c(=O)c2nsnc2n(C)c1=O          IC50   \n",
       "3  COc1ccc(CNS(=O)(=O)c2ccc3c(c2)CC(C)N3C(=O)C2CC...          IC50   \n",
       "4  CCC(=O)N1CCc2cc(S(=O)(=O)N3CCN(c4ccc(Cl)cc4)CC...          IC50   \n",
       "\n",
       "  Standard Relation  ...  Target ChEMBL ID Target Name  Target Organism  \\\n",
       "0               '='  ...        CHEMBL1825   TNF-alpha     Homo sapiens   \n",
       "1               '='  ...        CHEMBL1825   TNF-alpha     Homo sapiens   \n",
       "2               '='  ...        CHEMBL1825   TNF-alpha     Homo sapiens   \n",
       "3               '>'  ...        CHEMBL1825   TNF-alpha     Homo sapiens   \n",
       "4               '>'  ...        CHEMBL1825   TNF-alpha     Homo sapiens   \n",
       "\n",
       "      Target Type Document ChEMBL ID Source ID     Source Description  \\\n",
       "0  SINGLE PROTEIN      CHEMBL1132644         1  Scientific Literature   \n",
       "1  SINGLE PROTEIN      CHEMBL1129287         1  Scientific Literature   \n",
       "2  SINGLE PROTEIN      CHEMBL1129287         1  Scientific Literature   \n",
       "3  SINGLE PROTEIN      CHEMBL1201862         7      PubChem BioAssays   \n",
       "4  SINGLE PROTEIN      CHEMBL1201862         7      PubChem BioAssays   \n",
       "\n",
       "  Document Journal Document Year Cell ChEMBL ID  \n",
       "0    J. Med. Chem.        1999.0           None  \n",
       "1    J. Med. Chem.        1996.0           None  \n",
       "2    J. Med. Chem.        1996.0           None  \n",
       "3              NaN           NaN           None  \n",
       "4              NaN           NaN           None  \n",
       "\n",
       "[5 rows x 41 columns]"
      ]
     },
     "execution_count": 3,
     "metadata": {},
     "output_type": "execute_result"
    }
   ],
   "source": [
    "data.head()"
   ]
  },
  {
   "cell_type": "code",
   "execution_count": 4,
   "metadata": {
    "colab": {
     "base_uri": "https://localhost:8080/",
     "height": 34
    },
    "id": "2lyWfuOeI3Cd",
    "outputId": "47ebda34-1875-4b71-ab00-f28afb8304d0"
   },
   "outputs": [
    {
     "data": {
      "text/plain": [
       "(1668, 41)"
      ]
     },
     "execution_count": 4,
     "metadata": {},
     "output_type": "execute_result"
    }
   ],
   "source": [
    "data.shape"
   ]
  },
  {
   "cell_type": "code",
   "execution_count": 5,
   "metadata": {
    "colab": {
     "base_uri": "https://localhost:8080/",
     "height": 745
    },
    "id": "gIpvYNIoUUz4",
    "outputId": "e91c39c4-d477-4ed9-a979-c0d7df17d36b"
   },
   "outputs": [
    {
     "data": {
      "text/plain": [
       "['Molecule ChEMBL ID',\n",
       " 'Molecule Name',\n",
       " 'Molecule Max Phase',\n",
       " 'Molecular Weight',\n",
       " '#RO5 Violations',\n",
       " 'AlogP',\n",
       " 'Compound Key',\n",
       " 'Smiles',\n",
       " 'Standard Type',\n",
       " 'Standard Relation',\n",
       " 'Standard Value',\n",
       " 'Standard Units',\n",
       " 'pChEMBL Value',\n",
       " 'Data Validity Comment',\n",
       " 'Comment',\n",
       " 'Uo Units',\n",
       " 'Ligand Efficiency BEI',\n",
       " 'Ligand Efficiency LE',\n",
       " 'Ligand Efficiency LLE',\n",
       " 'Ligand Efficiency SEI',\n",
       " 'Potential Duplicate',\n",
       " 'Assay ChEMBL ID',\n",
       " 'Assay Description',\n",
       " 'Assay Type',\n",
       " 'BAO Format ID',\n",
       " 'BAO Label',\n",
       " 'Assay Organism',\n",
       " 'Assay Tissue ChEMBL ID',\n",
       " 'Assay Tissue Name',\n",
       " 'Assay Cell Type',\n",
       " 'Assay Subcellular Fraction',\n",
       " 'Target ChEMBL ID',\n",
       " 'Target Name',\n",
       " 'Target Organism',\n",
       " 'Target Type',\n",
       " 'Document ChEMBL ID',\n",
       " 'Source ID',\n",
       " 'Source Description',\n",
       " 'Document Journal',\n",
       " 'Document Year',\n",
       " 'Cell ChEMBL ID']"
      ]
     },
     "execution_count": 5,
     "metadata": {},
     "output_type": "execute_result"
    }
   ],
   "source": [
    "cols = list(data.columns)\n",
    "cols"
   ]
  },
  {
   "cell_type": "code",
   "execution_count": 6,
   "metadata": {
    "id": "N9XYqvP_Ukuo"
   },
   "outputs": [],
   "source": [
    "cols_we_need = ['Molecule ChEMBL ID', \n",
    "                'Smiles', \n",
    "                'Standard Type', \n",
    "                'Standard Value', \n",
    "                'Standard Units',\n",
    "                'Assay Type',\n",
    "                'Assay Organism',\n",
    "                'Target Organism']"
   ]
  },
  {
   "cell_type": "code",
   "execution_count": 7,
   "metadata": {
    "colab": {
     "base_uri": "https://localhost:8080/",
     "height": 158
    },
    "id": "bvgRHNU9U2RC",
    "outputId": "0f181f88-ec0a-4bd7-e6c4-000c016eebd0"
   },
   "outputs": [
    {
     "data": {
      "text/plain": [
       "['Molecule ChEMBL ID',\n",
       " 'Smiles',\n",
       " 'Standard Type',\n",
       " 'Standard Value',\n",
       " 'Standard Units',\n",
       " 'Assay Type',\n",
       " 'Assay Organism',\n",
       " 'Target Organism']"
      ]
     },
     "execution_count": 7,
     "metadata": {},
     "output_type": "execute_result"
    }
   ],
   "source": [
    "cols_we_need"
   ]
  },
  {
   "cell_type": "code",
   "execution_count": 8,
   "metadata": {
    "id": "HkEULXYEWVA6"
   },
   "outputs": [],
   "source": [
    "data_ed = data[cols_we_need]"
   ]
  },
  {
   "cell_type": "code",
   "execution_count": 9,
   "metadata": {
    "colab": {
     "base_uri": "https://localhost:8080/",
     "height": 406
    },
    "id": "oGiURBmXfcT1",
    "outputId": "b88f25ad-a7b4-4498-e945-6cf2f6ae6e52"
   },
   "outputs": [
    {
     "data": {
      "text/html": [
       "<div>\n",
       "<style scoped>\n",
       "    .dataframe tbody tr th:only-of-type {\n",
       "        vertical-align: middle;\n",
       "    }\n",
       "\n",
       "    .dataframe tbody tr th {\n",
       "        vertical-align: top;\n",
       "    }\n",
       "\n",
       "    .dataframe thead th {\n",
       "        text-align: right;\n",
       "    }\n",
       "</style>\n",
       "<table border=\"1\" class=\"dataframe\">\n",
       "  <thead>\n",
       "    <tr style=\"text-align: right;\">\n",
       "      <th></th>\n",
       "      <th>Molecule ChEMBL ID</th>\n",
       "      <th>Smiles</th>\n",
       "      <th>Standard Type</th>\n",
       "      <th>Standard Value</th>\n",
       "      <th>Standard Units</th>\n",
       "      <th>Assay Type</th>\n",
       "      <th>Assay Organism</th>\n",
       "      <th>Target Organism</th>\n",
       "    </tr>\n",
       "  </thead>\n",
       "  <tbody>\n",
       "    <tr>\n",
       "      <th>0</th>\n",
       "      <td>CHEMBL341096</td>\n",
       "      <td>CCOC(=O)CCCn1cc([N+](=O)[O-])c2cc(OC)c(OC)cc2c1=O</td>\n",
       "      <td>IC50</td>\n",
       "      <td>35000.0</td>\n",
       "      <td>nM</td>\n",
       "      <td>F</td>\n",
       "      <td>None</td>\n",
       "      <td>Homo sapiens</td>\n",
       "    </tr>\n",
       "    <tr>\n",
       "      <th>1</th>\n",
       "      <td>CHEMBL169239</td>\n",
       "      <td>CCOC(=O)CCCn1c(=O)c2nccnc2n(C)c1=O</td>\n",
       "      <td>IC50</td>\n",
       "      <td>12000.0</td>\n",
       "      <td>nM</td>\n",
       "      <td>F</td>\n",
       "      <td>None</td>\n",
       "      <td>Homo sapiens</td>\n",
       "    </tr>\n",
       "    <tr>\n",
       "      <th>2</th>\n",
       "      <td>CHEMBL263480</td>\n",
       "      <td>CCOC(=O)CCCn1c(=O)c2nsnc2n(C)c1=O</td>\n",
       "      <td>IC50</td>\n",
       "      <td>25000.0</td>\n",
       "      <td>nM</td>\n",
       "      <td>F</td>\n",
       "      <td>None</td>\n",
       "      <td>Homo sapiens</td>\n",
       "    </tr>\n",
       "    <tr>\n",
       "      <th>3</th>\n",
       "      <td>CHEMBL1384893</td>\n",
       "      <td>COc1ccc(CNS(=O)(=O)c2ccc3c(c2)CC(C)N3C(=O)C2CC...</td>\n",
       "      <td>IC50</td>\n",
       "      <td>20000.0</td>\n",
       "      <td>nM</td>\n",
       "      <td>F</td>\n",
       "      <td>Homo sapiens</td>\n",
       "      <td>Homo sapiens</td>\n",
       "    </tr>\n",
       "    <tr>\n",
       "      <th>4</th>\n",
       "      <td>CHEMBL1699379</td>\n",
       "      <td>CCC(=O)N1CCc2cc(S(=O)(=O)N3CCN(c4ccc(Cl)cc4)CC...</td>\n",
       "      <td>IC50</td>\n",
       "      <td>20000.0</td>\n",
       "      <td>nM</td>\n",
       "      <td>F</td>\n",
       "      <td>Homo sapiens</td>\n",
       "      <td>Homo sapiens</td>\n",
       "    </tr>\n",
       "    <tr>\n",
       "      <th>...</th>\n",
       "      <td>...</td>\n",
       "      <td>...</td>\n",
       "      <td>...</td>\n",
       "      <td>...</td>\n",
       "      <td>...</td>\n",
       "      <td>...</td>\n",
       "      <td>...</td>\n",
       "      <td>...</td>\n",
       "    </tr>\n",
       "    <tr>\n",
       "      <th>1663</th>\n",
       "      <td>CHEMBL704</td>\n",
       "      <td>Nc1ccc(O)c(C(=O)O)c1</td>\n",
       "      <td>IC50</td>\n",
       "      <td>20600000.0</td>\n",
       "      <td>nM</td>\n",
       "      <td>B</td>\n",
       "      <td>Homo sapiens</td>\n",
       "      <td>Homo sapiens</td>\n",
       "    </tr>\n",
       "    <tr>\n",
       "      <th>1664</th>\n",
       "      <td>CHEMBL4128842</td>\n",
       "      <td>Cl.O=C1/C(=C/c2ccncc2)Cc2cccc(O)c21</td>\n",
       "      <td>Inhibition</td>\n",
       "      <td>NaN</td>\n",
       "      <td>NaN</td>\n",
       "      <td>B</td>\n",
       "      <td>Homo sapiens</td>\n",
       "      <td>Homo sapiens</td>\n",
       "    </tr>\n",
       "    <tr>\n",
       "      <th>1665</th>\n",
       "      <td>CHEMBL4068672</td>\n",
       "      <td>CCCNC(=O)CC[C@H]1NC(=O)c2cc(Oc3cccc(N(C)C)c3)c...</td>\n",
       "      <td>Inhibition</td>\n",
       "      <td>NaN</td>\n",
       "      <td>NaN</td>\n",
       "      <td>B</td>\n",
       "      <td>Homo sapiens</td>\n",
       "      <td>Homo sapiens</td>\n",
       "    </tr>\n",
       "    <tr>\n",
       "      <th>1666</th>\n",
       "      <td>CHEMBL4211883</td>\n",
       "      <td>Nc1ncc(-c2ccc3ncc(S(=O)(=O)N4CCN(c5ccccn5)CC4)...</td>\n",
       "      <td>IC50</td>\n",
       "      <td>11000.0</td>\n",
       "      <td>nM</td>\n",
       "      <td>B</td>\n",
       "      <td>Homo sapiens</td>\n",
       "      <td>Homo sapiens</td>\n",
       "    </tr>\n",
       "    <tr>\n",
       "      <th>1667</th>\n",
       "      <td>CHEMBL4216705</td>\n",
       "      <td>Nc1ncc(-c2ccc3ncc(S(N)(=O)=O)n3n2)cc1C(F)(F)F</td>\n",
       "      <td>IC50</td>\n",
       "      <td>4000.0</td>\n",
       "      <td>nM</td>\n",
       "      <td>B</td>\n",
       "      <td>Homo sapiens</td>\n",
       "      <td>Homo sapiens</td>\n",
       "    </tr>\n",
       "  </tbody>\n",
       "</table>\n",
       "<p>1668 rows × 8 columns</p>\n",
       "</div>"
      ],
      "text/plain": [
       "     Molecule ChEMBL ID                                             Smiles  \\\n",
       "0          CHEMBL341096  CCOC(=O)CCCn1cc([N+](=O)[O-])c2cc(OC)c(OC)cc2c1=O   \n",
       "1          CHEMBL169239                 CCOC(=O)CCCn1c(=O)c2nccnc2n(C)c1=O   \n",
       "2          CHEMBL263480                  CCOC(=O)CCCn1c(=O)c2nsnc2n(C)c1=O   \n",
       "3         CHEMBL1384893  COc1ccc(CNS(=O)(=O)c2ccc3c(c2)CC(C)N3C(=O)C2CC...   \n",
       "4         CHEMBL1699379  CCC(=O)N1CCc2cc(S(=O)(=O)N3CCN(c4ccc(Cl)cc4)CC...   \n",
       "...                 ...                                                ...   \n",
       "1663          CHEMBL704                               Nc1ccc(O)c(C(=O)O)c1   \n",
       "1664      CHEMBL4128842                Cl.O=C1/C(=C/c2ccncc2)Cc2cccc(O)c21   \n",
       "1665      CHEMBL4068672  CCCNC(=O)CC[C@H]1NC(=O)c2cc(Oc3cccc(N(C)C)c3)c...   \n",
       "1666      CHEMBL4211883  Nc1ncc(-c2ccc3ncc(S(=O)(=O)N4CCN(c5ccccn5)CC4)...   \n",
       "1667      CHEMBL4216705      Nc1ncc(-c2ccc3ncc(S(N)(=O)=O)n3n2)cc1C(F)(F)F   \n",
       "\n",
       "     Standard Type  Standard Value Standard Units Assay Type Assay Organism  \\\n",
       "0             IC50         35000.0             nM          F           None   \n",
       "1             IC50         12000.0             nM          F           None   \n",
       "2             IC50         25000.0             nM          F           None   \n",
       "3             IC50         20000.0             nM          F   Homo sapiens   \n",
       "4             IC50         20000.0             nM          F   Homo sapiens   \n",
       "...            ...             ...            ...        ...            ...   \n",
       "1663          IC50      20600000.0             nM          B   Homo sapiens   \n",
       "1664    Inhibition             NaN            NaN          B   Homo sapiens   \n",
       "1665    Inhibition             NaN            NaN          B   Homo sapiens   \n",
       "1666          IC50         11000.0             nM          B   Homo sapiens   \n",
       "1667          IC50          4000.0             nM          B   Homo sapiens   \n",
       "\n",
       "     Target Organism  \n",
       "0       Homo sapiens  \n",
       "1       Homo sapiens  \n",
       "2       Homo sapiens  \n",
       "3       Homo sapiens  \n",
       "4       Homo sapiens  \n",
       "...              ...  \n",
       "1663    Homo sapiens  \n",
       "1664    Homo sapiens  \n",
       "1665    Homo sapiens  \n",
       "1666    Homo sapiens  \n",
       "1667    Homo sapiens  \n",
       "\n",
       "[1668 rows x 8 columns]"
      ]
     },
     "execution_count": 9,
     "metadata": {},
     "output_type": "execute_result"
    }
   ],
   "source": [
    "data_ed"
   ]
  },
  {
   "cell_type": "code",
   "execution_count": 10,
   "metadata": {
    "colab": {
     "base_uri": "https://localhost:8080/",
     "height": 176
    },
    "id": "Pia4ypvwfukB",
    "outputId": "2fba2bc9-008e-4dc8-98b1-136a45430ff2"
   },
   "outputs": [
    {
     "data": {
      "text/plain": [
       "Molecule ChEMBL ID      0\n",
       "Smiles                  2\n",
       "Standard Type           0\n",
       "Standard Value        157\n",
       "Standard Units        178\n",
       "Assay Type              0\n",
       "Assay Organism          0\n",
       "Target Organism         0\n",
       "dtype: int64"
      ]
     },
     "execution_count": 10,
     "metadata": {},
     "output_type": "execute_result"
    }
   ],
   "source": [
    "data_ed.isna().sum()"
   ]
  },
  {
   "cell_type": "code",
   "execution_count": 11,
   "metadata": {
    "id": "f4rRfzplhwTT"
   },
   "outputs": [],
   "source": [
    "data_ed = data_ed.dropna()"
   ]
  },
  {
   "cell_type": "code",
   "execution_count": 12,
   "metadata": {
    "colab": {
     "base_uri": "https://localhost:8080/",
     "height": 176
    },
    "id": "tbxK5A3RiYUa",
    "outputId": "677bcf3f-4996-4ee1-eec6-b5b9db6f553f"
   },
   "outputs": [
    {
     "data": {
      "text/plain": [
       "Molecule ChEMBL ID    0\n",
       "Smiles                0\n",
       "Standard Type         0\n",
       "Standard Value        0\n",
       "Standard Units        0\n",
       "Assay Type            0\n",
       "Assay Organism        0\n",
       "Target Organism       0\n",
       "dtype: int64"
      ]
     },
     "execution_count": 12,
     "metadata": {},
     "output_type": "execute_result"
    }
   ],
   "source": [
    "data_ed.isna().sum()"
   ]
  },
  {
   "cell_type": "code",
   "execution_count": 13,
   "metadata": {
    "id": "tSpxbpqJibtO"
   },
   "outputs": [],
   "source": [
    "u_values = []\n",
    "for i in range(0,len(data_ed.columns)):\n",
    "  u_val = data_ed[data_ed.columns[i]].nunique()\n",
    "  u_values.append(u_val)"
   ]
  },
  {
   "cell_type": "code",
   "execution_count": 14,
   "metadata": {
    "colab": {
     "base_uri": "https://localhost:8080/",
     "height": 34
    },
    "id": "GARjDP1ljD1f",
    "outputId": "96afa81b-51ba-41ee-ecda-a4c5a763b39c"
   },
   "outputs": [
    {
     "data": {
      "text/plain": [
       "[993, 993, 7, 830, 3, 2, 2, 1]"
      ]
     },
     "execution_count": 14,
     "metadata": {},
     "output_type": "execute_result"
    }
   ],
   "source": [
    "u_values"
   ]
  },
  {
   "cell_type": "code",
   "execution_count": 15,
   "metadata": {
    "id": "reEUNUL0jFLz"
   },
   "outputs": [],
   "source": [
    "data_ed_droped = data_ed.drop(['Molecule ChEMBL ID', 'Smiles', 'Standard Value'], axis = 1)"
   ]
  },
  {
   "cell_type": "code",
   "execution_count": 16,
   "metadata": {
    "id": "DGWXMAPerC12"
   },
   "outputs": [],
   "source": [
    "u_name_values = []\n",
    "for i in range(0,len(data_ed_droped.columns)):\n",
    "  u_n_val = list(data_ed[data_ed_droped.columns[i]].unique())\n",
    "  u_name_values.append(u_n_val)"
   ]
  },
  {
   "cell_type": "code",
   "execution_count": 17,
   "metadata": {
    "colab": {
     "base_uri": "https://localhost:8080/",
     "height": 105
    },
    "id": "ls-fljaUrKkc",
    "outputId": "12eb2b50-6bc5-41c5-a505-d0068140c88c"
   },
   "outputs": [
    {
     "data": {
      "text/plain": [
       "[['IC50', 'Potency', 'Ki', 'EC50', 'Inhibition', 'Kd', 'Activity'],\n",
       " ['nM', '%', 'kDa'],\n",
       " ['F', 'B'],\n",
       " ['None', 'Homo sapiens'],\n",
       " ['Homo sapiens']]"
      ]
     },
     "execution_count": 17,
     "metadata": {},
     "output_type": "execute_result"
    }
   ],
   "source": [
    "u_name_values"
   ]
  },
  {
   "cell_type": "code",
   "execution_count": 18,
   "metadata": {
    "id": "xviHSoP0vAz0"
   },
   "outputs": [],
   "source": [
    "data_ed = data_ed.rename({'Molecule ChEMBL ID':'molecule_chembl_id',\n",
    "                          'Standard Type':'standard_type',\n",
    "                          'Standard Value':'standard_value',\n",
    "                          'Standard Units':'standard_units',\n",
    "                          'Assay Type':'assay_type',\n",
    "                          'Assay Organism':'assay_organism',\n",
    "                          'Target Organism':'target_organism'}, axis = 1)"
   ]
  },
  {
   "cell_type": "code",
   "execution_count": 19,
   "metadata": {
    "colab": {
     "base_uri": "https://localhost:8080/",
     "height": 266
    },
    "id": "G-Yj9GoAxUhV",
    "outputId": "919f18ea-ba38-4b77-e077-58aa1f4dc1a0"
   },
   "outputs": [
    {
     "data": {
      "text/html": [
       "<div>\n",
       "<style scoped>\n",
       "    .dataframe tbody tr th:only-of-type {\n",
       "        vertical-align: middle;\n",
       "    }\n",
       "\n",
       "    .dataframe tbody tr th {\n",
       "        vertical-align: top;\n",
       "    }\n",
       "\n",
       "    .dataframe thead th {\n",
       "        text-align: right;\n",
       "    }\n",
       "</style>\n",
       "<table border=\"1\" class=\"dataframe\">\n",
       "  <thead>\n",
       "    <tr style=\"text-align: right;\">\n",
       "      <th></th>\n",
       "      <th>molecule_chembl_id</th>\n",
       "      <th>Smiles</th>\n",
       "      <th>standard_type</th>\n",
       "      <th>standard_value</th>\n",
       "      <th>standard_units</th>\n",
       "      <th>assay_type</th>\n",
       "      <th>assay_organism</th>\n",
       "      <th>target_organism</th>\n",
       "    </tr>\n",
       "  </thead>\n",
       "  <tbody>\n",
       "    <tr>\n",
       "      <th>0</th>\n",
       "      <td>CHEMBL341096</td>\n",
       "      <td>CCOC(=O)CCCn1cc([N+](=O)[O-])c2cc(OC)c(OC)cc2c1=O</td>\n",
       "      <td>IC50</td>\n",
       "      <td>35000.0</td>\n",
       "      <td>nM</td>\n",
       "      <td>F</td>\n",
       "      <td>None</td>\n",
       "      <td>Homo sapiens</td>\n",
       "    </tr>\n",
       "    <tr>\n",
       "      <th>1</th>\n",
       "      <td>CHEMBL169239</td>\n",
       "      <td>CCOC(=O)CCCn1c(=O)c2nccnc2n(C)c1=O</td>\n",
       "      <td>IC50</td>\n",
       "      <td>12000.0</td>\n",
       "      <td>nM</td>\n",
       "      <td>F</td>\n",
       "      <td>None</td>\n",
       "      <td>Homo sapiens</td>\n",
       "    </tr>\n",
       "    <tr>\n",
       "      <th>2</th>\n",
       "      <td>CHEMBL263480</td>\n",
       "      <td>CCOC(=O)CCCn1c(=O)c2nsnc2n(C)c1=O</td>\n",
       "      <td>IC50</td>\n",
       "      <td>25000.0</td>\n",
       "      <td>nM</td>\n",
       "      <td>F</td>\n",
       "      <td>None</td>\n",
       "      <td>Homo sapiens</td>\n",
       "    </tr>\n",
       "    <tr>\n",
       "      <th>3</th>\n",
       "      <td>CHEMBL1384893</td>\n",
       "      <td>COc1ccc(CNS(=O)(=O)c2ccc3c(c2)CC(C)N3C(=O)C2CC...</td>\n",
       "      <td>IC50</td>\n",
       "      <td>20000.0</td>\n",
       "      <td>nM</td>\n",
       "      <td>F</td>\n",
       "      <td>Homo sapiens</td>\n",
       "      <td>Homo sapiens</td>\n",
       "    </tr>\n",
       "    <tr>\n",
       "      <th>4</th>\n",
       "      <td>CHEMBL1699379</td>\n",
       "      <td>CCC(=O)N1CCc2cc(S(=O)(=O)N3CCN(c4ccc(Cl)cc4)CC...</td>\n",
       "      <td>IC50</td>\n",
       "      <td>20000.0</td>\n",
       "      <td>nM</td>\n",
       "      <td>F</td>\n",
       "      <td>Homo sapiens</td>\n",
       "      <td>Homo sapiens</td>\n",
       "    </tr>\n",
       "  </tbody>\n",
       "</table>\n",
       "</div>"
      ],
      "text/plain": [
       "  molecule_chembl_id                                             Smiles  \\\n",
       "0       CHEMBL341096  CCOC(=O)CCCn1cc([N+](=O)[O-])c2cc(OC)c(OC)cc2c1=O   \n",
       "1       CHEMBL169239                 CCOC(=O)CCCn1c(=O)c2nccnc2n(C)c1=O   \n",
       "2       CHEMBL263480                  CCOC(=O)CCCn1c(=O)c2nsnc2n(C)c1=O   \n",
       "3      CHEMBL1384893  COc1ccc(CNS(=O)(=O)c2ccc3c(c2)CC(C)N3C(=O)C2CC...   \n",
       "4      CHEMBL1699379  CCC(=O)N1CCc2cc(S(=O)(=O)N3CCN(c4ccc(Cl)cc4)CC...   \n",
       "\n",
       "  standard_type  standard_value standard_units assay_type assay_organism  \\\n",
       "0          IC50         35000.0             nM          F           None   \n",
       "1          IC50         12000.0             nM          F           None   \n",
       "2          IC50         25000.0             nM          F           None   \n",
       "3          IC50         20000.0             nM          F   Homo sapiens   \n",
       "4          IC50         20000.0             nM          F   Homo sapiens   \n",
       "\n",
       "  target_organism  \n",
       "0    Homo sapiens  \n",
       "1    Homo sapiens  \n",
       "2    Homo sapiens  \n",
       "3    Homo sapiens  \n",
       "4    Homo sapiens  "
      ]
     },
     "execution_count": 19,
     "metadata": {},
     "output_type": "execute_result"
    }
   ],
   "source": [
    "data_ed.head()"
   ]
  },
  {
   "cell_type": "code",
   "execution_count": 20,
   "metadata": {
    "id": "dC7kwd_evwGy"
   },
   "outputs": [],
   "source": [
    "data_last = data_ed.query(\"assay_type=='B' & assay_organism =='Homo sapiens'& target_organism =='Homo sapiens'\")"
   ]
  },
  {
   "cell_type": "code",
   "execution_count": 21,
   "metadata": {
    "colab": {
     "base_uri": "https://localhost:8080/",
     "height": 422
    },
    "id": "obEMvVA63Vki",
    "outputId": "6abea0db-1bff-4bbf-e0fc-4bb60dbe3f3f"
   },
   "outputs": [
    {
     "data": {
      "text/html": [
       "<div>\n",
       "<style scoped>\n",
       "    .dataframe tbody tr th:only-of-type {\n",
       "        vertical-align: middle;\n",
       "    }\n",
       "\n",
       "    .dataframe tbody tr th {\n",
       "        vertical-align: top;\n",
       "    }\n",
       "\n",
       "    .dataframe thead th {\n",
       "        text-align: right;\n",
       "    }\n",
       "</style>\n",
       "<table border=\"1\" class=\"dataframe\">\n",
       "  <thead>\n",
       "    <tr style=\"text-align: right;\">\n",
       "      <th></th>\n",
       "      <th>molecule_chembl_id</th>\n",
       "      <th>Smiles</th>\n",
       "      <th>standard_type</th>\n",
       "      <th>standard_value</th>\n",
       "      <th>standard_units</th>\n",
       "      <th>assay_type</th>\n",
       "      <th>assay_organism</th>\n",
       "      <th>target_organism</th>\n",
       "    </tr>\n",
       "  </thead>\n",
       "  <tbody>\n",
       "    <tr>\n",
       "      <th>34</th>\n",
       "      <td>CHEMBL3640324</td>\n",
       "      <td>COc1ccc2c(c1F)C(=O)N(C[C@@]1(C#Cc3ccc(N4CCNCC4...</td>\n",
       "      <td>IC50</td>\n",
       "      <td>1.180000e+02</td>\n",
       "      <td>nM</td>\n",
       "      <td>B</td>\n",
       "      <td>Homo sapiens</td>\n",
       "      <td>Homo sapiens</td>\n",
       "    </tr>\n",
       "    <tr>\n",
       "      <th>35</th>\n",
       "      <td>CHEMBL3640340</td>\n",
       "      <td>CCN1CCN(Cc2ccc(C#C[C@]3(CN4Cc5ccc(OC)c(F)c5C4=...</td>\n",
       "      <td>Ki</td>\n",
       "      <td>2.590000e-01</td>\n",
       "      <td>nM</td>\n",
       "      <td>B</td>\n",
       "      <td>Homo sapiens</td>\n",
       "      <td>Homo sapiens</td>\n",
       "    </tr>\n",
       "    <tr>\n",
       "      <th>36</th>\n",
       "      <td>CHEMBL3640366</td>\n",
       "      <td>COc1ccc2c(c1F)C(=O)N(C[C@@]1(C#Cc3ccc(-c4nc(-c...</td>\n",
       "      <td>Ki</td>\n",
       "      <td>7.810000e-02</td>\n",
       "      <td>nM</td>\n",
       "      <td>B</td>\n",
       "      <td>Homo sapiens</td>\n",
       "      <td>Homo sapiens</td>\n",
       "    </tr>\n",
       "    <tr>\n",
       "      <th>37</th>\n",
       "      <td>CHEMBL3640391</td>\n",
       "      <td>CCN1CCN(C(N=O)c2ccc(C#C[C@]3(CN4Cc5ccc(OC)c(F)...</td>\n",
       "      <td>Ki</td>\n",
       "      <td>1.800000e-01</td>\n",
       "      <td>nM</td>\n",
       "      <td>B</td>\n",
       "      <td>Homo sapiens</td>\n",
       "      <td>Homo sapiens</td>\n",
       "    </tr>\n",
       "    <tr>\n",
       "      <th>38</th>\n",
       "      <td>CHEMBL3640394</td>\n",
       "      <td>COc1ccc2c(c1F)C(=O)N(C[C@@]1(C#Cc3ccc(C4(C(N)=...</td>\n",
       "      <td>Ki</td>\n",
       "      <td>4.500000e-01</td>\n",
       "      <td>nM</td>\n",
       "      <td>B</td>\n",
       "      <td>Homo sapiens</td>\n",
       "      <td>Homo sapiens</td>\n",
       "    </tr>\n",
       "    <tr>\n",
       "      <th>...</th>\n",
       "      <td>...</td>\n",
       "      <td>...</td>\n",
       "      <td>...</td>\n",
       "      <td>...</td>\n",
       "      <td>...</td>\n",
       "      <td>...</td>\n",
       "      <td>...</td>\n",
       "      <td>...</td>\n",
       "    </tr>\n",
       "    <tr>\n",
       "      <th>1661</th>\n",
       "      <td>CHEMBL4217876</td>\n",
       "      <td>CCN1CCN(S(=O)(=O)c2cnc3ccc(Cl)nn23)CC1</td>\n",
       "      <td>IC50</td>\n",
       "      <td>3.000000e+04</td>\n",
       "      <td>nM</td>\n",
       "      <td>B</td>\n",
       "      <td>Homo sapiens</td>\n",
       "      <td>Homo sapiens</td>\n",
       "    </tr>\n",
       "    <tr>\n",
       "      <th>1662</th>\n",
       "      <td>CHEMBL4208862</td>\n",
       "      <td>CCN1CCN(S(=O)(=O)c2cnc3ccc(-c4ccc(OC)nc4)nn23)CC1</td>\n",
       "      <td>IC50</td>\n",
       "      <td>2.000000e+04</td>\n",
       "      <td>nM</td>\n",
       "      <td>B</td>\n",
       "      <td>Homo sapiens</td>\n",
       "      <td>Homo sapiens</td>\n",
       "    </tr>\n",
       "    <tr>\n",
       "      <th>1663</th>\n",
       "      <td>CHEMBL704</td>\n",
       "      <td>Nc1ccc(O)c(C(=O)O)c1</td>\n",
       "      <td>IC50</td>\n",
       "      <td>2.060000e+07</td>\n",
       "      <td>nM</td>\n",
       "      <td>B</td>\n",
       "      <td>Homo sapiens</td>\n",
       "      <td>Homo sapiens</td>\n",
       "    </tr>\n",
       "    <tr>\n",
       "      <th>1666</th>\n",
       "      <td>CHEMBL4211883</td>\n",
       "      <td>Nc1ncc(-c2ccc3ncc(S(=O)(=O)N4CCN(c5ccccn5)CC4)...</td>\n",
       "      <td>IC50</td>\n",
       "      <td>1.100000e+04</td>\n",
       "      <td>nM</td>\n",
       "      <td>B</td>\n",
       "      <td>Homo sapiens</td>\n",
       "      <td>Homo sapiens</td>\n",
       "    </tr>\n",
       "    <tr>\n",
       "      <th>1667</th>\n",
       "      <td>CHEMBL4216705</td>\n",
       "      <td>Nc1ncc(-c2ccc3ncc(S(N)(=O)=O)n3n2)cc1C(F)(F)F</td>\n",
       "      <td>IC50</td>\n",
       "      <td>4.000000e+03</td>\n",
       "      <td>nM</td>\n",
       "      <td>B</td>\n",
       "      <td>Homo sapiens</td>\n",
       "      <td>Homo sapiens</td>\n",
       "    </tr>\n",
       "  </tbody>\n",
       "</table>\n",
       "<p>880 rows × 8 columns</p>\n",
       "</div>"
      ],
      "text/plain": [
       "     molecule_chembl_id                                             Smiles  \\\n",
       "34        CHEMBL3640324  COc1ccc2c(c1F)C(=O)N(C[C@@]1(C#Cc3ccc(N4CCNCC4...   \n",
       "35        CHEMBL3640340  CCN1CCN(Cc2ccc(C#C[C@]3(CN4Cc5ccc(OC)c(F)c5C4=...   \n",
       "36        CHEMBL3640366  COc1ccc2c(c1F)C(=O)N(C[C@@]1(C#Cc3ccc(-c4nc(-c...   \n",
       "37        CHEMBL3640391  CCN1CCN(C(N=O)c2ccc(C#C[C@]3(CN4Cc5ccc(OC)c(F)...   \n",
       "38        CHEMBL3640394  COc1ccc2c(c1F)C(=O)N(C[C@@]1(C#Cc3ccc(C4(C(N)=...   \n",
       "...                 ...                                                ...   \n",
       "1661      CHEMBL4217876             CCN1CCN(S(=O)(=O)c2cnc3ccc(Cl)nn23)CC1   \n",
       "1662      CHEMBL4208862  CCN1CCN(S(=O)(=O)c2cnc3ccc(-c4ccc(OC)nc4)nn23)CC1   \n",
       "1663          CHEMBL704                               Nc1ccc(O)c(C(=O)O)c1   \n",
       "1666      CHEMBL4211883  Nc1ncc(-c2ccc3ncc(S(=O)(=O)N4CCN(c5ccccn5)CC4)...   \n",
       "1667      CHEMBL4216705      Nc1ncc(-c2ccc3ncc(S(N)(=O)=O)n3n2)cc1C(F)(F)F   \n",
       "\n",
       "     standard_type  standard_value standard_units assay_type assay_organism  \\\n",
       "34            IC50    1.180000e+02             nM          B   Homo sapiens   \n",
       "35              Ki    2.590000e-01             nM          B   Homo sapiens   \n",
       "36              Ki    7.810000e-02             nM          B   Homo sapiens   \n",
       "37              Ki    1.800000e-01             nM          B   Homo sapiens   \n",
       "38              Ki    4.500000e-01             nM          B   Homo sapiens   \n",
       "...            ...             ...            ...        ...            ...   \n",
       "1661          IC50    3.000000e+04             nM          B   Homo sapiens   \n",
       "1662          IC50    2.000000e+04             nM          B   Homo sapiens   \n",
       "1663          IC50    2.060000e+07             nM          B   Homo sapiens   \n",
       "1666          IC50    1.100000e+04             nM          B   Homo sapiens   \n",
       "1667          IC50    4.000000e+03             nM          B   Homo sapiens   \n",
       "\n",
       "     target_organism  \n",
       "34      Homo sapiens  \n",
       "35      Homo sapiens  \n",
       "36      Homo sapiens  \n",
       "37      Homo sapiens  \n",
       "38      Homo sapiens  \n",
       "...              ...  \n",
       "1661    Homo sapiens  \n",
       "1662    Homo sapiens  \n",
       "1663    Homo sapiens  \n",
       "1666    Homo sapiens  \n",
       "1667    Homo sapiens  \n",
       "\n",
       "[880 rows x 8 columns]"
      ]
     },
     "execution_count": 21,
     "metadata": {},
     "output_type": "execute_result"
    }
   ],
   "source": [
    "data_last"
   ]
  },
  {
   "cell_type": "code",
   "execution_count": 28,
   "metadata": {
    "id": "iKUoJSoZ31ju"
   },
   "outputs": [],
   "source": [
    "data_last.to_csv('Data.csv', index=False)"
   ]
  },
  {
   "cell_type": "code",
   "execution_count": null,
   "metadata": {},
   "outputs": [],
   "source": []
  }
 ],
 "metadata": {
  "colab": {
   "collapsed_sections": [],
   "name": "CAAD-2.ipynb",
   "provenance": []
  },
  "kernelspec": {
   "display_name": "Python 3",
   "language": "python",
   "name": "python3"
  },
  "language_info": {
   "codemirror_mode": {
    "name": "ipython",
    "version": 3
   },
   "file_extension": ".py",
   "mimetype": "text/x-python",
   "name": "python",
   "nbconvert_exporter": "python",
   "pygments_lexer": "ipython3",
   "version": "3.8.3"
  }
 },
 "nbformat": 4,
 "nbformat_minor": 1
}
