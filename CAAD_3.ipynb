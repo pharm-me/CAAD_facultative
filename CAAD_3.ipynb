{
 "cells": [
  {
   "cell_type": "code",
   "execution_count": 1,
   "metadata": {},
   "outputs": [],
   "source": [
    "import pandas as pd\n",
    "from statistics import mean, mode, median\n",
    "import numpy as np\n",
    "import seaborn as sns"
   ]
  },
  {
   "cell_type": "code",
   "execution_count": 2,
   "metadata": {},
   "outputs": [],
   "source": [
    "data = pd.read_csv('Data.csv')"
   ]
  },
  {
   "cell_type": "code",
   "execution_count": 3,
   "metadata": {},
   "outputs": [
    {
     "data": {
      "text/plain": [
       "standard_type\n",
       "Activity        3\n",
       "IC50          463\n",
       "Inhibition     67\n",
       "Kd             59\n",
       "Ki            288\n",
       "dtype: int64"
      ]
     },
     "execution_count": 3,
     "metadata": {},
     "output_type": "execute_result"
    }
   ],
   "source": [
    "data.pivot_table(index = ['standard_type'], aggfunc='size')"
   ]
  },
  {
   "cell_type": "code",
   "execution_count": 4,
   "metadata": {},
   "outputs": [],
   "source": [
    "data = data.query(\"standard_type == 'IC50'\")"
   ]
  },
  {
   "cell_type": "code",
   "execution_count": 5,
   "metadata": {},
   "outputs": [
    {
     "data": {
      "text/html": [
       "<div>\n",
       "<style scoped>\n",
       "    .dataframe tbody tr th:only-of-type {\n",
       "        vertical-align: middle;\n",
       "    }\n",
       "\n",
       "    .dataframe tbody tr th {\n",
       "        vertical-align: top;\n",
       "    }\n",
       "\n",
       "    .dataframe thead th {\n",
       "        text-align: right;\n",
       "    }\n",
       "</style>\n",
       "<table border=\"1\" class=\"dataframe\">\n",
       "  <thead>\n",
       "    <tr style=\"text-align: right;\">\n",
       "      <th></th>\n",
       "      <th>molecule_chembl_id</th>\n",
       "      <th>Smiles</th>\n",
       "      <th>standard_type</th>\n",
       "      <th>standard_value</th>\n",
       "      <th>standard_units</th>\n",
       "      <th>assay_type</th>\n",
       "      <th>assay_organism</th>\n",
       "      <th>target_organism</th>\n",
       "    </tr>\n",
       "  </thead>\n",
       "  <tbody>\n",
       "    <tr>\n",
       "      <th>0</th>\n",
       "      <td>CHEMBL3640324</td>\n",
       "      <td>COc1ccc2c(c1F)C(=O)N(C[C@@]1(C#Cc3ccc(N4CCNCC4...</td>\n",
       "      <td>IC50</td>\n",
       "      <td>118.0</td>\n",
       "      <td>nM</td>\n",
       "      <td>B</td>\n",
       "      <td>Homo sapiens</td>\n",
       "      <td>Homo sapiens</td>\n",
       "    </tr>\n",
       "    <tr>\n",
       "      <th>5</th>\n",
       "      <td>CHEMBL3640408</td>\n",
       "      <td>COc1ccc2c(c1)C(=O)N(C[C@@]1(C#Cc3ccc(NC(=O)C4C...</td>\n",
       "      <td>IC50</td>\n",
       "      <td>78.0</td>\n",
       "      <td>nM</td>\n",
       "      <td>B</td>\n",
       "      <td>Homo sapiens</td>\n",
       "      <td>Homo sapiens</td>\n",
       "    </tr>\n",
       "    <tr>\n",
       "      <th>6</th>\n",
       "      <td>CHEMBL3642557</td>\n",
       "      <td>COc1ccc2c(c1)C(=O)N(CC1(C#Cc3ccc(/N=C(\\NC#N)NC...</td>\n",
       "      <td>IC50</td>\n",
       "      <td>268.0</td>\n",
       "      <td>nM</td>\n",
       "      <td>B</td>\n",
       "      <td>Homo sapiens</td>\n",
       "      <td>Homo sapiens</td>\n",
       "    </tr>\n",
       "    <tr>\n",
       "      <th>7</th>\n",
       "      <td>CHEMBL3642442</td>\n",
       "      <td>COc1ccc2c(c1)C(=O)N(C[C@@]1(C#Cc3ccc(C4(CN)NC(...</td>\n",
       "      <td>IC50</td>\n",
       "      <td>229.0</td>\n",
       "      <td>nM</td>\n",
       "      <td>B</td>\n",
       "      <td>Homo sapiens</td>\n",
       "      <td>Homo sapiens</td>\n",
       "    </tr>\n",
       "    <tr>\n",
       "      <th>11</th>\n",
       "      <td>CHEMBL3326305</td>\n",
       "      <td>O=C1Nc2ccc(S(=O)(=O)Nc3ccc(O)c(Cl)c3)c3cccc1c23</td>\n",
       "      <td>IC50</td>\n",
       "      <td>45700.0</td>\n",
       "      <td>nM</td>\n",
       "      <td>B</td>\n",
       "      <td>Homo sapiens</td>\n",
       "      <td>Homo sapiens</td>\n",
       "    </tr>\n",
       "  </tbody>\n",
       "</table>\n",
       "</div>"
      ],
      "text/plain": [
       "   molecule_chembl_id                                             Smiles  \\\n",
       "0       CHEMBL3640324  COc1ccc2c(c1F)C(=O)N(C[C@@]1(C#Cc3ccc(N4CCNCC4...   \n",
       "5       CHEMBL3640408  COc1ccc2c(c1)C(=O)N(C[C@@]1(C#Cc3ccc(NC(=O)C4C...   \n",
       "6       CHEMBL3642557  COc1ccc2c(c1)C(=O)N(CC1(C#Cc3ccc(/N=C(\\NC#N)NC...   \n",
       "7       CHEMBL3642442  COc1ccc2c(c1)C(=O)N(C[C@@]1(C#Cc3ccc(C4(CN)NC(...   \n",
       "11      CHEMBL3326305    O=C1Nc2ccc(S(=O)(=O)Nc3ccc(O)c(Cl)c3)c3cccc1c23   \n",
       "\n",
       "   standard_type  standard_value standard_units assay_type assay_organism  \\\n",
       "0           IC50           118.0             nM          B   Homo sapiens   \n",
       "5           IC50            78.0             nM          B   Homo sapiens   \n",
       "6           IC50           268.0             nM          B   Homo sapiens   \n",
       "7           IC50           229.0             nM          B   Homo sapiens   \n",
       "11          IC50         45700.0             nM          B   Homo sapiens   \n",
       "\n",
       "   target_organism  \n",
       "0     Homo sapiens  \n",
       "5     Homo sapiens  \n",
       "6     Homo sapiens  \n",
       "7     Homo sapiens  \n",
       "11    Homo sapiens  "
      ]
     },
     "execution_count": 5,
     "metadata": {},
     "output_type": "execute_result"
    }
   ],
   "source": [
    "data.head()"
   ]
  },
  {
   "cell_type": "code",
   "execution_count": 6,
   "metadata": {},
   "outputs": [
    {
     "data": {
      "text/plain": [
       "standard_units\n",
       "nM    463\n",
       "dtype: int64"
      ]
     },
     "execution_count": 6,
     "metadata": {},
     "output_type": "execute_result"
    }
   ],
   "source": [
    "data.pivot_table(index = ['standard_units'], aggfunc='size')"
   ]
  },
  {
   "cell_type": "code",
   "execution_count": 7,
   "metadata": {},
   "outputs": [],
   "source": [
    "def statDescribe (data):\n",
    "    data_min = min(data)\n",
    "    data_max = max(data)\n",
    "    data_mean = round(mean(data), 2)\n",
    "    data_mode = mode(data)\n",
    "    data_median = median(data)\n",
    "    print('Минимальное значение: {0} \\nМаксимальное значение: {1} \\nСреднее значение: {2} \\nМода: {3} \\nМедиана: {4}'\\\n",
    "          .format(data_min, data_max, data_mean, data_mode, data_median))"
   ]
  },
  {
   "cell_type": "code",
   "execution_count": 8,
   "metadata": {},
   "outputs": [
    {
     "name": "stdout",
     "output_type": "stream",
     "text": [
      "Минимальное значение: 0.3 \n",
      "Максимальное значение: 20600000.0 \n",
      "Среднее значение: 122093.32 \n",
      "Мода: 20000.0 \n",
      "Медиана: 678.0\n"
     ]
    }
   ],
   "source": [
    "statDescribe(data['standard_value'])"
   ]
  },
  {
   "cell_type": "code",
   "execution_count": 9,
   "metadata": {},
   "outputs": [],
   "source": [
    "def calcPic50(st_values):\n",
    "    for i in range(0, len(st_values)):\n",
    "        st_values[i] = st_values[i]*10**-9\n",
    "        st_values[i] = round(-np.log10(st_values[i]), 3)\n",
    "    return st_values"
   ]
  },
  {
   "cell_type": "code",
   "execution_count": 10,
   "metadata": {},
   "outputs": [],
   "source": [
    "st_val = list(data['standard_value'])"
   ]
  },
  {
   "cell_type": "code",
   "execution_count": 11,
   "metadata": {},
   "outputs": [],
   "source": [
    "pic50_vals = calcPic50(st_val)"
   ]
  },
  {
   "cell_type": "code",
   "execution_count": 12,
   "metadata": {},
   "outputs": [
    {
     "data": {
      "image/png": "[encoded data removed]",
      "text/plain": [
       "<Figure size 432x288 with 1 Axes>"
      ]
     },
     "metadata": {
      "needs_background": "light"
     },
     "output_type": "display_data"
    }
   ],
   "source": [
    "plot = sns.distplot(pic50_vals)"
   ]
  },
  {
   "cell_type": "code",
   "execution_count": 13,
   "metadata": {},
   "outputs": [
    {
     "name": "stdout",
     "output_type": "stream",
     "text": [
      "Минимальное значение: 1.686 \n",
      "Максимальное значение: 9.523 \n",
      "Среднее значение: 6.06 \n",
      "Мода: 4.699 \n",
      "Медиана: 6.169\n"
     ]
    }
   ],
   "source": [
    "statDescribe(pic50_vals)"
   ]
  },
  {
   "cell_type": "code",
   "execution_count": 14,
   "metadata": {},
   "outputs": [],
   "source": [
    "data['pIC50'] = pic50_vals"
   ]
  },
  {
   "cell_type": "code",
   "execution_count": 15,
   "metadata": {},
   "outputs": [
    {
     "data": {
      "text/html": [
       "<div>\n",
       "<style scoped>\n",
       "    .dataframe tbody tr th:only-of-type {\n",
       "        vertical-align: middle;\n",
       "    }\n",
       "\n",
       "    .dataframe tbody tr th {\n",
       "        vertical-align: top;\n",
       "    }\n",
       "\n",
       "    .dataframe thead th {\n",
       "        text-align: right;\n",
       "    }\n",
       "</style>\n",
       "<table border=\"1\" class=\"dataframe\">\n",
       "  <thead>\n",
       "    <tr style=\"text-align: right;\">\n",
       "      <th></th>\n",
       "      <th>molecule_chembl_id</th>\n",
       "      <th>Smiles</th>\n",
       "      <th>standard_type</th>\n",
       "      <th>standard_value</th>\n",
       "      <th>standard_units</th>\n",
       "      <th>assay_type</th>\n",
       "      <th>assay_organism</th>\n",
       "      <th>target_organism</th>\n",
       "      <th>pIC50</th>\n",
       "    </tr>\n",
       "  </thead>\n",
       "  <tbody>\n",
       "    <tr>\n",
       "      <th>0</th>\n",
       "      <td>CHEMBL3640324</td>\n",
       "      <td>COc1ccc2c(c1F)C(=O)N(C[C@@]1(C#Cc3ccc(N4CCNCC4...</td>\n",
       "      <td>IC50</td>\n",
       "      <td>118.0</td>\n",
       "      <td>nM</td>\n",
       "      <td>B</td>\n",
       "      <td>Homo sapiens</td>\n",
       "      <td>Homo sapiens</td>\n",
       "      <td>6.928</td>\n",
       "    </tr>\n",
       "    <tr>\n",
       "      <th>5</th>\n",
       "      <td>CHEMBL3640408</td>\n",
       "      <td>COc1ccc2c(c1)C(=O)N(C[C@@]1(C#Cc3ccc(NC(=O)C4C...</td>\n",
       "      <td>IC50</td>\n",
       "      <td>78.0</td>\n",
       "      <td>nM</td>\n",
       "      <td>B</td>\n",
       "      <td>Homo sapiens</td>\n",
       "      <td>Homo sapiens</td>\n",
       "      <td>7.108</td>\n",
       "    </tr>\n",
       "    <tr>\n",
       "      <th>6</th>\n",
       "      <td>CHEMBL3642557</td>\n",
       "      <td>COc1ccc2c(c1)C(=O)N(CC1(C#Cc3ccc(/N=C(\\NC#N)NC...</td>\n",
       "      <td>IC50</td>\n",
       "      <td>268.0</td>\n",
       "      <td>nM</td>\n",
       "      <td>B</td>\n",
       "      <td>Homo sapiens</td>\n",
       "      <td>Homo sapiens</td>\n",
       "      <td>6.572</td>\n",
       "    </tr>\n",
       "    <tr>\n",
       "      <th>7</th>\n",
       "      <td>CHEMBL3642442</td>\n",
       "      <td>COc1ccc2c(c1)C(=O)N(C[C@@]1(C#Cc3ccc(C4(CN)NC(...</td>\n",
       "      <td>IC50</td>\n",
       "      <td>229.0</td>\n",
       "      <td>nM</td>\n",
       "      <td>B</td>\n",
       "      <td>Homo sapiens</td>\n",
       "      <td>Homo sapiens</td>\n",
       "      <td>6.640</td>\n",
       "    </tr>\n",
       "    <tr>\n",
       "      <th>11</th>\n",
       "      <td>CHEMBL3326305</td>\n",
       "      <td>O=C1Nc2ccc(S(=O)(=O)Nc3ccc(O)c(Cl)c3)c3cccc1c23</td>\n",
       "      <td>IC50</td>\n",
       "      <td>45700.0</td>\n",
       "      <td>nM</td>\n",
       "      <td>B</td>\n",
       "      <td>Homo sapiens</td>\n",
       "      <td>Homo sapiens</td>\n",
       "      <td>4.340</td>\n",
       "    </tr>\n",
       "  </tbody>\n",
       "</table>\n",
       "</div>"
      ],
      "text/plain": [
       "   molecule_chembl_id                                             Smiles  \\\n",
       "0       CHEMBL3640324  COc1ccc2c(c1F)C(=O)N(C[C@@]1(C#Cc3ccc(N4CCNCC4...   \n",
       "5       CHEMBL3640408  COc1ccc2c(c1)C(=O)N(C[C@@]1(C#Cc3ccc(NC(=O)C4C...   \n",
       "6       CHEMBL3642557  COc1ccc2c(c1)C(=O)N(CC1(C#Cc3ccc(/N=C(\\NC#N)NC...   \n",
       "7       CHEMBL3642442  COc1ccc2c(c1)C(=O)N(C[C@@]1(C#Cc3ccc(C4(CN)NC(...   \n",
       "11      CHEMBL3326305    O=C1Nc2ccc(S(=O)(=O)Nc3ccc(O)c(Cl)c3)c3cccc1c23   \n",
       "\n",
       "   standard_type  standard_value standard_units assay_type assay_organism  \\\n",
       "0           IC50           118.0             nM          B   Homo sapiens   \n",
       "5           IC50            78.0             nM          B   Homo sapiens   \n",
       "6           IC50           268.0             nM          B   Homo sapiens   \n",
       "7           IC50           229.0             nM          B   Homo sapiens   \n",
       "11          IC50         45700.0             nM          B   Homo sapiens   \n",
       "\n",
       "   target_organism  pIC50  \n",
       "0     Homo sapiens  6.928  \n",
       "5     Homo sapiens  7.108  \n",
       "6     Homo sapiens  6.572  \n",
       "7     Homo sapiens  6.640  \n",
       "11    Homo sapiens  4.340  "
      ]
     },
     "execution_count": 15,
     "metadata": {},
     "output_type": "execute_result"
    }
   ],
   "source": [
    "data.head()"
   ]
  },
  {
   "cell_type": "code",
   "execution_count": 16,
   "metadata": {},
   "outputs": [
    {
     "data": {
      "text/html": [
       "<div>\n",
       "<style scoped>\n",
       "    .dataframe tbody tr th:only-of-type {\n",
       "        vertical-align: middle;\n",
       "    }\n",
       "\n",
       "    .dataframe tbody tr th {\n",
       "        vertical-align: top;\n",
       "    }\n",
       "\n",
       "    .dataframe thead th {\n",
       "        text-align: right;\n",
       "    }\n",
       "</style>\n",
       "<table border=\"1\" class=\"dataframe\">\n",
       "  <thead>\n",
       "    <tr style=\"text-align: right;\">\n",
       "      <th></th>\n",
       "      <th>molecule_chembl_id</th>\n",
       "      <th>Smiles</th>\n",
       "      <th>standard_type</th>\n",
       "      <th>standard_value</th>\n",
       "      <th>standard_units</th>\n",
       "      <th>assay_type</th>\n",
       "      <th>assay_organism</th>\n",
       "      <th>target_organism</th>\n",
       "      <th>pIC50</th>\n",
       "    </tr>\n",
       "  </thead>\n",
       "  <tbody>\n",
       "    <tr>\n",
       "      <th>0</th>\n",
       "      <td>CHEMBL3640324</td>\n",
       "      <td>COc1ccc2c(c1F)C(=O)N(C[C@@]1(C#Cc3ccc(N4CCNCC4...</td>\n",
       "      <td>IC50</td>\n",
       "      <td>118.0</td>\n",
       "      <td>nM</td>\n",
       "      <td>B</td>\n",
       "      <td>Homo sapiens</td>\n",
       "      <td>Homo sapiens</td>\n",
       "      <td>6.928</td>\n",
       "    </tr>\n",
       "    <tr>\n",
       "      <th>5</th>\n",
       "      <td>CHEMBL3640408</td>\n",
       "      <td>COc1ccc2c(c1)C(=O)N(C[C@@]1(C#Cc3ccc(NC(=O)C4C...</td>\n",
       "      <td>IC50</td>\n",
       "      <td>78.0</td>\n",
       "      <td>nM</td>\n",
       "      <td>B</td>\n",
       "      <td>Homo sapiens</td>\n",
       "      <td>Homo sapiens</td>\n",
       "      <td>7.108</td>\n",
       "    </tr>\n",
       "    <tr>\n",
       "      <th>6</th>\n",
       "      <td>CHEMBL3642557</td>\n",
       "      <td>COc1ccc2c(c1)C(=O)N(CC1(C#Cc3ccc(/N=C(\\NC#N)NC...</td>\n",
       "      <td>IC50</td>\n",
       "      <td>268.0</td>\n",
       "      <td>nM</td>\n",
       "      <td>B</td>\n",
       "      <td>Homo sapiens</td>\n",
       "      <td>Homo sapiens</td>\n",
       "      <td>6.572</td>\n",
       "    </tr>\n",
       "    <tr>\n",
       "      <th>7</th>\n",
       "      <td>CHEMBL3642442</td>\n",
       "      <td>COc1ccc2c(c1)C(=O)N(C[C@@]1(C#Cc3ccc(C4(CN)NC(...</td>\n",
       "      <td>IC50</td>\n",
       "      <td>229.0</td>\n",
       "      <td>nM</td>\n",
       "      <td>B</td>\n",
       "      <td>Homo sapiens</td>\n",
       "      <td>Homo sapiens</td>\n",
       "      <td>6.640</td>\n",
       "    </tr>\n",
       "    <tr>\n",
       "      <th>25</th>\n",
       "      <td>CHEMBL3955760</td>\n",
       "      <td>COc1cccc2c1ncc1c(=O)n(-c3cccc(Cl)c3)c(=O)n(C3C...</td>\n",
       "      <td>IC50</td>\n",
       "      <td>0.4</td>\n",
       "      <td>nM</td>\n",
       "      <td>B</td>\n",
       "      <td>Homo sapiens</td>\n",
       "      <td>Homo sapiens</td>\n",
       "      <td>9.398</td>\n",
       "    </tr>\n",
       "  </tbody>\n",
       "</table>\n",
       "</div>"
      ],
      "text/plain": [
       "   molecule_chembl_id                                             Smiles  \\\n",
       "0       CHEMBL3640324  COc1ccc2c(c1F)C(=O)N(C[C@@]1(C#Cc3ccc(N4CCNCC4...   \n",
       "5       CHEMBL3640408  COc1ccc2c(c1)C(=O)N(C[C@@]1(C#Cc3ccc(NC(=O)C4C...   \n",
       "6       CHEMBL3642557  COc1ccc2c(c1)C(=O)N(CC1(C#Cc3ccc(/N=C(\\NC#N)NC...   \n",
       "7       CHEMBL3642442  COc1ccc2c(c1)C(=O)N(C[C@@]1(C#Cc3ccc(C4(CN)NC(...   \n",
       "25      CHEMBL3955760  COc1cccc2c1ncc1c(=O)n(-c3cccc(Cl)c3)c(=O)n(C3C...   \n",
       "\n",
       "   standard_type  standard_value standard_units assay_type assay_organism  \\\n",
       "0           IC50           118.0             nM          B   Homo sapiens   \n",
       "5           IC50            78.0             nM          B   Homo sapiens   \n",
       "6           IC50           268.0             nM          B   Homo sapiens   \n",
       "7           IC50           229.0             nM          B   Homo sapiens   \n",
       "25          IC50             0.4             nM          B   Homo sapiens   \n",
       "\n",
       "   target_organism  pIC50  \n",
       "0     Homo sapiens  6.928  \n",
       "5     Homo sapiens  7.108  \n",
       "6     Homo sapiens  6.572  \n",
       "7     Homo sapiens  6.640  \n",
       "25    Homo sapiens  9.398  "
      ]
     },
     "execution_count": 16,
     "metadata": {},
     "output_type": "execute_result"
    }
   ],
   "source": [
    "data = data.query(\"pIC50 >= 6.0\")\n",
    "data.head()"
   ]
  },
  {
   "cell_type": "code",
   "execution_count": 29,
   "metadata": {},
   "outputs": [],
   "source": [
    "data.to_csv('Data_ML.csv', index=False)"
   ]
  },
  {
   "cell_type": "markdown",
   "metadata": {},
   "source": [
    "### Введение в RDkit, молекулярные дескрипторы "
   ]
  },
  {
   "cell_type": "code",
   "execution_count": 45,
   "metadata": {},
   "outputs": [],
   "source": [
    "from rdkit import Chem\n",
    "from rdkit.Chem import AllChem, Draw, Descriptors\n",
    "from rdkit.Chem.Descriptors import rdMolDescriptors"
   ]
  },
  {
   "cell_type": "code",
   "execution_count": 18,
   "metadata": {},
   "outputs": [
    {
     "data": {
      "text/plain": [
       "'COc1ccc2c(c1F)C(=O)N(C[C@@]1(C#Cc3ccc(N4CCNCC4)cc3)NC(=O)NC1=O)C2'"
      ]
     },
     "execution_count": 18,
     "metadata": {},
     "output_type": "execute_result"
    }
   ],
   "source": [
    "smile = data['Smiles'][0]\n",
    "smile"
   ]
  },
  {
   "cell_type": "code",
   "execution_count": 19,
   "metadata": {},
   "outputs": [
    {
     "data": {
      "image/png": "[encoded data removed]",
      "text/plain": [
       "<rdkit.Chem.rdchem.Mol at 0x1c44c813bc0>"
      ]
     },
     "execution_count": 19,
     "metadata": {},
     "output_type": "execute_result"
    }
   ],
   "source": [
    "mol = Chem.MolFromSmiles(smile)\n",
    "mol"
   ]
  },
  {
   "cell_type": "code",
   "execution_count": 28,
   "metadata": {},
   "outputs": [
    {
     "data": {
      "text/plain": [
       "rdkit.Chem.rdchem.Mol"
      ]
     },
     "execution_count": 28,
     "metadata": {},
     "output_type": "execute_result"
    }
   ],
   "source": [
    "type(mol)"
   ]
  },
  {
   "cell_type": "code",
   "execution_count": 20,
   "metadata": {},
   "outputs": [
    {
     "data": {
      "image/png": "[encoded data removed]",
      "text/plain": [
       "<rdkit.Chem.rdchem.Mol at 0x1c44c813ee0>"
      ]
     },
     "execution_count": 20,
     "metadata": {},
     "output_type": "execute_result"
    }
   ],
   "source": [
    "mol  = Chem.AddHs(mol)\n",
    "mol"
   ]
  },
  {
   "cell_type": "code",
   "execution_count": 21,
   "metadata": {},
   "outputs": [
    {
     "name": "stdout",
     "output_type": "stream",
     "text": [
      "\n",
      "     RDKit          2D\n",
      "\n",
      " 59 63  0  0  0  0  0  0  0  0999 V2000\n",
      "    1.3299    5.6152    0.0000 C   0  0  0  0  0  0  0  0  0  0  0  0\n",
      "   -0.0967    5.1517    0.0000 O   0  0  0  0  0  0  0  0  0  0  0  0\n",
      "   -0.4086    3.6844    0.0000 C   0  0  0  0  0  0  0  0  0  0  0  0\n",
      "   -1.8351    3.2209    0.0000 C   0  0  0  0  0  0  0  0  0  0  0  0\n",
      "   -2.1470    1.7537    0.0000 C   0  0  0  0  0  0  0  0  0  0  0  0\n",
      "   -1.0323    0.7500    0.0000 C   0  0  0  0  0  0  0  0  0  0  0  0\n",
      "    0.3943    1.2135    0.0000 C   0  0  0  0  0  0  0  0  0  0  0  0\n",
      "    0.7062    2.6807    0.0000 C   0  0  0  0  0  0  0  0  0  0  0  0\n",
      "    2.1328    3.1443    0.0000 F   0  0  0  0  0  0  0  0  0  0  0  0\n",
      "    1.2760    0.0000    0.0000 C   0  0  0  0  0  0  0  0  0  0  0  0\n",
      "    2.7760    0.0000    0.0000 O   0  0  0  0  0  0  0  0  0  0  0  0\n",
      "    0.3943   -1.2135    0.0000 N   0  0  0  0  0  0  0  0  0  0  0  0\n",
      "    0.8578   -2.6401    0.0000 C   0  0  0  0  0  0  0  0  0  0  0  0\n",
      "    1.3213   -4.0667    0.0000 C   0  0  0  0  0  0  0  0  0  0  0  0\n",
      "   -0.1459   -4.3786    0.0000 C   0  0  0  0  0  0  0  0  0  0  0  0\n",
      "   -1.6131   -4.6904    0.0000 C   0  0  0  0  0  0  0  0  0  0  0  0\n",
      "   -3.0803   -5.0023    0.0000 C   0  0  0  0  0  0  0  0  0  0  0  0\n",
      "   -4.0840   -3.8876    0.0000 C   0  0  0  0  0  0  0  0  0  0  0  0\n",
      "   -5.5512   -4.1994    0.0000 C   0  0  0  0  0  0  0  0  0  0  0  0\n",
      "   -6.0148   -5.6260    0.0000 C   0  0  0  0  0  0  0  0  0  0  0  0\n",
      "   -7.4820   -5.9379    0.0000 N   0  0  0  0  0  0  0  0  0  0  0  0\n",
      "   -8.4857   -4.8232    0.0000 C   0  0  0  0  0  0  0  0  0  0  0  0\n",
      "   -9.9529   -5.1351    0.0000 C   0  0  0  0  0  0  0  0  0  0  0  0\n",
      "  -10.4164   -6.5616    0.0000 N   0  0  0  0  0  0  0  0  0  0  0  0\n",
      "   -9.4127   -7.6764    0.0000 C   0  0  0  0  0  0  0  0  0  0  0  0\n",
      "   -7.9455   -7.3645    0.0000 C   0  0  0  0  0  0  0  0  0  0  0  0\n",
      "   -5.0111   -6.7407    0.0000 C   0  0  0  0  0  0  0  0  0  0  0  0\n",
      "   -3.5438   -6.4289    0.0000 C   0  0  0  0  0  0  0  0  0  0  0  0\n",
      "    1.4781   -5.5585    0.0000 N   0  0  0  0  0  0  0  0  0  0  0  0\n",
      "    2.9454   -5.8703    0.0000 C   0  0  0  0  0  0  0  0  0  0  0  0\n",
      "    3.5555   -7.2407    0.0000 O   0  0  0  0  0  0  0  0  0  0  0  0\n",
      "    3.6954   -4.5713    0.0000 N   0  0  0  0  0  0  0  0  0  0  0  0\n",
      "    2.6917   -3.4566    0.0000 C   0  0  0  0  0  0  0  0  0  0  0  0\n",
      "    3.1801   -2.0383    0.0000 O   0  0  0  0  0  0  0  0  0  0  0  0\n",
      "   -1.0323   -0.7500    0.0000 C   0  0  0  0  0  0  0  0  0  0  0  0\n",
      "    2.7565    6.0787    0.0000 H   0  0  0  0  0  0  0  0  0  0  0  0\n",
      "    0.8664    7.0418    0.0000 H   0  0  0  0  0  0  0  0  0  0  0  0\n",
      "    1.7934    4.1886    0.0000 H   0  0  0  0  0  0  0  0  0  0  0  0\n",
      "   -2.9499    4.2246    0.0000 H   0  0  0  0  0  0  0  0  0  0  0  0\n",
      "   -3.5736    1.2902    0.0000 H   0  0  0  0  0  0  0  0  0  0  0  0\n",
      "    2.2173   -2.0061    0.0000 H   0  0  0  0  0  0  0  0  0  0  0  0\n",
      "   -0.5688   -3.1036    0.0000 H   0  0  0  0  0  0  0  0  0  0  0  0\n",
      "   -3.6205   -2.4610    0.0000 H   0  0  0  0  0  0  0  0  0  0  0  0\n",
      "   -6.5549   -3.0847    0.0000 H   0  0  0  0  0  0  0  0  0  0  0  0\n",
      "   -9.0476   -3.4324    0.0000 H   0  0  0  0  0  0  0  0  0  0  0  0\n",
      "   -7.2136   -4.0283    0.0000 H   0  0  0  0  0  0  0  0  0  0  0  0\n",
      "  -11.4383   -4.9263    0.0000 H   0  0  0  0  0  0  0  0  0  0  0  0\n",
      "  -10.0052   -3.6360    0.0000 H   0  0  0  0  0  0  0  0  0  0  0  0\n",
      "  -11.8836   -6.8735    0.0000 H   0  0  0  0  0  0  0  0  0  0  0  0\n",
      "   -8.8508   -9.0671    0.0000 H   0  0  0  0  0  0  0  0  0  0  0  0\n",
      "  -10.6848   -8.4712    0.0000 H   0  0  0  0  0  0  0  0  0  0  0  0\n",
      "   -6.4601   -7.5732    0.0000 H   0  0  0  0  0  0  0  0  0  0  0  0\n",
      "   -7.8932   -8.8636    0.0000 H   0  0  0  0  0  0  0  0  0  0  0  0\n",
      "   -5.4746   -8.1673    0.0000 H   0  0  0  0  0  0  0  0  0  0  0  0\n",
      "   -2.5401   -7.5436    0.0000 H   0  0  0  0  0  0  0  0  0  0  0  0\n",
      "    0.3634   -6.5622    0.0000 H   0  0  0  0  0  0  0  0  0  0  0  0\n",
      "    5.1871   -4.4145    0.0000 H   0  0  0  0  0  0  0  0  0  0  0  0\n",
      "   -1.3442   -2.2172    0.0000 H   0  0  0  0  0  0  0  0  0  0  0  0\n",
      "   -2.5241   -0.5932    0.0000 H   0  0  0  0  0  0  0  0  0  0  0  0\n",
      "  1  2  1  0\n",
      "  2  3  1  0\n",
      "  3  4  2  0\n",
      "  4  5  1  0\n",
      "  5  6  2  0\n",
      "  6  7  1  0\n",
      "  7  8  2  0\n",
      "  8  9  1  0\n",
      "  7 10  1  0\n",
      " 10 11  2  0\n",
      " 10 12  1  0\n",
      " 12 13  1  0\n",
      " 13 14  1  0\n",
      " 14 15  1  1\n",
      " 15 16  3  0\n",
      " 16 17  1  0\n",
      " 17 18  2  0\n",
      " 18 19  1  0\n",
      " 19 20  2  0\n",
      " 20 21  1  0\n",
      " 21 22  1  0\n",
      " 22 23  1  0\n",
      " 23 24  1  0\n",
      " 24 25  1  0\n",
      " 25 26  1  0\n",
      " 20 27  1  0\n",
      " 27 28  2  0\n",
      " 14 29  1  0\n",
      " 29 30  1  0\n",
      " 30 31  2  0\n",
      " 30 32  1  0\n",
      " 32 33  1  0\n",
      " 33 34  2  0\n",
      " 12 35  1  0\n",
      "  8  3  1  0\n",
      " 33 14  1  0\n",
      " 35  6  1  0\n",
      " 28 17  1  0\n",
      " 26 21  1  0\n",
      "  1 36  1  0\n",
      "  1 37  1  0\n",
      "  1 38  1  0\n",
      "  4 39  1  0\n",
      "  5 40  1  0\n",
      " 13 41  1  0\n",
      " 13 42  1  0\n",
      " 18 43  1  0\n",
      " 19 44  1  0\n",
      " 22 45  1  0\n",
      " 22 46  1  0\n",
      " 23 47  1  0\n",
      " 23 48  1  0\n",
      " 24 49  1  0\n",
      " 25 50  1  0\n",
      " 25 51  1  0\n",
      " 26 52  1  0\n",
      " 26 53  1  0\n",
      " 27 54  1  0\n",
      " 28 55  1  0\n",
      " 29 56  1  0\n",
      " 32 57  1  0\n",
      " 35 58  1  0\n",
      " 35 59  1  0\n",
      "M  END\n",
      "\n"
     ]
    }
   ],
   "source": [
    "print(Chem.MolToMolBlock(mol))"
   ]
  },
  {
   "cell_type": "code",
   "execution_count": 27,
   "metadata": {},
   "outputs": [
    {
     "data": {
      "image/png": "[encoded data removed]",
      "text/plain": [
       "<rdkit.Chem.rdchem.Mol at 0x1c44c813ee0>"
      ]
     },
     "execution_count": 27,
     "metadata": {},
     "output_type": "execute_result"
    }
   ],
   "source": [
    "AllChem.EmbedMolecule(mol)\n",
    "mol"
   ]
  },
  {
   "cell_type": "code",
   "execution_count": 23,
   "metadata": {},
   "outputs": [
    {
     "name": "stdout",
     "output_type": "stream",
     "text": [
      "\n",
      "     RDKit          3D\n",
      "\n",
      " 59 63  0  0  0  0  0  0  0  0999 V2000\n",
      "   10.5979    0.5390    0.0705 C   0  0  0  0  0  0  0  0  0  0  0  0\n",
      "    9.3965    0.6764    0.8012 O   0  0  0  0  0  0  0  0  0  0  0  0\n",
      "    8.1748    0.6172    0.1254 C   0  0  0  0  0  0  0  0  0  0  0  0\n",
      "    8.1053    0.4275   -1.2397 C   0  0  0  0  0  0  0  0  0  0  0  0\n",
      "    6.8657    0.3747   -1.8732 C   0  0  0  0  0  0  0  0  0  0  0  0\n",
      "    5.6843    0.5052   -1.1900 C   0  0  0  0  0  0  0  0  0  0  0  0\n",
      "    5.7487    0.6936    0.1657 C   0  0  0  0  0  0  0  0  0  0  0  0\n",
      "    6.9823    0.7477    0.8071 C   0  0  0  0  0  0  0  0  0  0  0  0\n",
      "    7.0508    0.9338    2.1473 F   0  0  0  0  0  0  0  0  0  0  0  0\n",
      "    4.3783    0.8061    0.6826 C   0  0  0  0  0  0  0  0  0  0  0  0\n",
      "    4.1365    0.9846    1.9033 O   0  0  0  0  0  0  0  0  0  0  0  0\n",
      "    3.4999    0.6768   -0.4193 N   0  0  0  0  0  0  0  0  0  0  0  0\n",
      "    2.0646    0.7277   -0.3438 C   0  0  0  0  0  0  0  0  0  0  0  0\n",
      "    1.4243   -0.6060   -0.1253 C   0  0  1  0  0  0  0  0  0  0  0  0\n",
      "   -0.0286   -0.4213   -0.0681 C   0  0  0  0  0  0  0  0  0  0  0  0\n",
      "   -1.2239   -0.2656   -0.0003 C   0  0  0  0  0  0  0  0  0  0  0  0\n",
      "   -2.6413   -0.0568    0.0877 C   0  0  0  0  0  0  0  0  0  0  0  0\n",
      "   -3.2391    1.1172   -0.3093 C   0  0  0  0  0  0  0  0  0  0  0  0\n",
      "   -4.6215    1.3097   -0.2189 C   0  0  0  0  0  0  0  0  0  0  0  0\n",
      "   -5.4494    0.3288    0.2732 C   0  0  0  0  0  0  0  0  0  0  0  0\n",
      "   -6.8601    0.4644    0.3755 N   0  0  0  0  0  0  0  0  0  0  0  0\n",
      "   -7.6953   -0.4027    1.1910 C   0  0  0  0  0  0  0  0  0  0  0  0\n",
      "   -8.7107   -1.0692    0.3090 C   0  0  0  0  0  0  0  0  0  0  0  0\n",
      "   -9.4751   -0.0758   -0.4305 N   0  0  0  0  0  0  0  0  0  0  0  0\n",
      "   -8.6306    0.8017   -1.1909 C   0  0  0  0  0  0  0  0  0  0  0  0\n",
      "   -7.5668    1.4958   -0.3586 C   0  0  0  0  0  0  0  0  0  0  0  0\n",
      "   -4.8327   -0.8540    0.6713 C   0  0  0  0  0  0  0  0  0  0  0  0\n",
      "   -3.4624   -1.0432    0.5813 C   0  0  0  0  0  0  0  0  0  0  0  0\n",
      "    1.6911   -1.5388   -1.2030 N   0  0  0  0  0  0  0  0  0  0  0  0\n",
      "    2.4217   -2.6375   -0.6628 C   0  0  0  0  0  0  0  0  0  0  0  0\n",
      "    2.9243   -3.6274   -1.2715 O   0  0  0  0  0  0  0  0  0  0  0  0\n",
      "    2.5354   -2.4916    0.7474 N   0  0  0  0  0  0  0  0  0  0  0  0\n",
      "    1.8734   -1.2936    1.1056 C   0  0  0  0  0  0  0  0  0  0  0  0\n",
      "    1.7011   -0.8911    2.2713 O   0  0  0  0  0  0  0  0  0  0  0  0\n",
      "    4.2664    0.4859   -1.6261 C   0  0  0  0  0  0  0  0  0  0  0  0\n",
      "   11.4829    0.8556    0.6579 H   0  0  0  0  0  0  0  0  0  0  0  0\n",
      "   10.7597   -0.4935   -0.2686 H   0  0  0  0  0  0  0  0  0  0  0  0\n",
      "   10.6074    1.2009   -0.8426 H   0  0  0  0  0  0  0  0  0  0  0  0\n",
      "    9.0297    0.3233   -1.7885 H   0  0  0  0  0  0  0  0  0  0  0  0\n",
      "    6.8611    0.2240   -2.9474 H   0  0  0  0  0  0  0  0  0  0  0  0\n",
      "    1.6593    1.1310   -1.2977 H   0  0  0  0  0  0  0  0  0  0  0  0\n",
      "    1.6982    1.4088    0.4501 H   0  0  0  0  0  0  0  0  0  0  0  0\n",
      "   -2.6683    1.9291   -0.7030 H   0  0  0  0  0  0  0  0  0  0  0  0\n",
      "   -5.0620    2.2479   -0.5346 H   0  0  0  0  0  0  0  0  0  0  0  0\n",
      "   -8.2624    0.2713    1.8863 H   0  0  0  0  0  0  0  0  0  0  0  0\n",
      "   -7.1590   -1.1329    1.7826 H   0  0  0  0  0  0  0  0  0  0  0  0\n",
      "   -8.2309   -1.8056   -0.3449 H   0  0  0  0  0  0  0  0  0  0  0  0\n",
      "   -9.4333   -1.6162    0.9427 H   0  0  0  0  0  0  0  0  0  0  0  0\n",
      "  -10.0520   -0.6108   -1.1170 H   0  0  0  0  0  0  0  0  0  0  0  0\n",
      "   -9.2842    1.5543   -1.6742 H   0  0  0  0  0  0  0  0  0  0  0  0\n",
      "   -8.1034    0.1932   -1.9514 H   0  0  0  0  0  0  0  0  0  0  0  0\n",
      "   -8.0625    2.2158    0.3521 H   0  0  0  0  0  0  0  0  0  0  0  0\n",
      "   -6.9557    2.0684   -1.0542 H   0  0  0  0  0  0  0  0  0  0  0  0\n",
      "   -5.3890   -1.6788    1.0643 H   0  0  0  0  0  0  0  0  0  0  0  0\n",
      "   -3.0070   -1.9826    0.9019 H   0  0  0  0  0  0  0  0  0  0  0  0\n",
      "    1.4231   -1.4645   -2.1896 H   0  0  0  0  0  0  0  0  0  0  0  0\n",
      "    3.0164   -3.1422    1.4073 H   0  0  0  0  0  0  0  0  0  0  0  0\n",
      "    4.0176   -0.4675   -2.1368 H   0  0  0  0  0  0  0  0  0  0  0  0\n",
      "    4.0280    1.3318   -2.3167 H   0  0  0  0  0  0  0  0  0  0  0  0\n",
      "  1  2  1  0\n",
      "  2  3  1  0\n",
      "  3  4  2  0\n",
      "  4  5  1  0\n",
      "  5  6  2  0\n",
      "  6  7  1  0\n",
      "  7  8  2  0\n",
      "  8  9  1  0\n",
      "  7 10  1  0\n",
      " 10 11  2  0\n",
      " 10 12  1  0\n",
      " 12 13  1  0\n",
      " 13 14  1  0\n",
      " 14 15  1  1\n",
      " 15 16  3  0\n",
      " 16 17  1  0\n",
      " 17 18  2  0\n",
      " 18 19  1  0\n",
      " 19 20  2  0\n",
      " 20 21  1  0\n",
      " 21 22  1  0\n",
      " 22 23  1  0\n",
      " 23 24  1  0\n",
      " 24 25  1  0\n",
      " 25 26  1  0\n",
      " 20 27  1  0\n",
      " 27 28  2  0\n",
      " 14 29  1  0\n",
      " 29 30  1  0\n",
      " 30 31  2  0\n",
      " 30 32  1  0\n",
      " 32 33  1  0\n",
      " 33 34  2  0\n",
      " 12 35  1  0\n",
      "  8  3  1  0\n",
      " 33 14  1  0\n",
      " 35  6  1  0\n",
      " 28 17  1  0\n",
      " 26 21  1  0\n",
      "  1 36  1  0\n",
      "  1 37  1  0\n",
      "  1 38  1  0\n",
      "  4 39  1  0\n",
      "  5 40  1  0\n",
      " 13 41  1  0\n",
      " 13 42  1  0\n",
      " 18 43  1  0\n",
      " 19 44  1  0\n",
      " 22 45  1  0\n",
      " 22 46  1  0\n",
      " 23 47  1  0\n",
      " 23 48  1  0\n",
      " 24 49  1  0\n",
      " 25 50  1  0\n",
      " 25 51  1  0\n",
      " 26 52  1  0\n",
      " 26 53  1  0\n",
      " 27 54  1  0\n",
      " 28 55  1  0\n",
      " 29 56  1  0\n",
      " 32 57  1  0\n",
      " 35 58  1  0\n",
      " 35 59  1  0\n",
      "M  END\n",
      "\n"
     ]
    }
   ],
   "source": [
    "print(Chem.MolToMolBlock(mol))"
   ]
  },
  {
   "cell_type": "code",
   "execution_count": 48,
   "metadata": {},
   "outputs": [],
   "source": [
    "def describe_mol(mol):\n",
    "    mw = round(Descriptors.MolWt(mol), 3)\n",
    "    logP = round(Descriptors.MolLogP(mol), 3)\n",
    "    des_obj = rdMolDescriptors.GetMACCSKeysFingerprint(mol)\n",
    "    des = des_obj.ToBitString()\n",
    "    print(f'Молекулярная масса: {mw} \\nLogP: {logP} \\nMACCSKeys: {des}')"
   ]
  },
  {
   "cell_type": "code",
   "execution_count": 49,
   "metadata": {},
   "outputs": [
    {
     "name": "stdout",
     "output_type": "stream",
     "text": [
      "Молекулярная масса: 477.496 \n",
      "LogP: 0.83 \n",
      "MACCSKeys: 00000000000000000100000000000000000001000011000000000010000000100010000000010101101101110111110111101100111100111100011011100111110101111110101111111011111111111111110\n"
     ]
    }
   ],
   "source": [
    "describe_mol(mol)"
   ]
  },
  {
   "cell_type": "code",
   "execution_count": null,
   "metadata": {},
   "outputs": [],
   "source": []
  }
 ],
 "metadata": {
  "kernelspec": {
   "display_name": "Python 3",
   "language": "python",
   "name": "python3"
  },
  "language_info": {
   "codemirror_mode": {
    "name": "ipython",
    "version": 3
   },
   "file_extension": ".py",
   "mimetype": "text/x-python",
   "name": "python",
   "nbconvert_exporter": "python",
   "pygments_lexer": "ipython3",
   "version": "3.8.3"
  }
 },
 "nbformat": 4,
 "nbformat_minor": 4
}
